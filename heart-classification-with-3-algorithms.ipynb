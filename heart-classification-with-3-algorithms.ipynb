{
 "cells": [
  {
   "attachments": {},
   "cell_type": "markdown",
   "id": "3c649e85",
   "metadata": {},
   "source": [
    "#                                                                    Project code"
   ]
  },
  {
   "cell_type": "code",
   "execution_count": 1,
   "id": "18a89e7d",
   "metadata": {
    "execution": {
     "iopub.execute_input": "2023-03-19T10:57:18.850319Z",
     "iopub.status.busy": "2023-03-19T10:57:18.849224Z",
     "iopub.status.idle": "2023-03-19T10:57:21.452249Z",
     "shell.execute_reply": "2023-03-19T10:57:21.451266Z"
    },
    "papermill": {
     "duration": 2.619679,
     "end_time": "2023-03-19T10:57:21.454610",
     "exception": false,
     "start_time": "2023-03-19T10:57:18.834931",
     "status": "completed"
    },
    "tags": []
   },
   "outputs": [],
   "source": [
    "# Load of libraries\n",
    "import pandas as pd\n",
    "import numpy as np\n",
    "import seaborn as sns\n",
    "import matplotlib.pyplot as plt\n",
    "from sklearn.preprocessing import StandardScaler, RobustScaler, MinMaxScaler\n",
    "from sklearn.model_selection import train_test_split, StratifiedShuffleSplit, cross_val_score, GridSearchCV, cross_val_predict\n",
    "from sklearn.metrics import confusion_matrix, precision_score, recall_score, f1_score, accuracy_score, roc_curve, roc_auc_score\n",
    "from sklearn.ensemble import RandomForestClassifier\n",
    "from sklearn.tree import DecisionTreeClassifier\n",
    "from sklearn.linear_model import LogisticRegression\n",
    "from sklearn.linear_model import SGDClassifier\n",
    "from sklearn.neighbors import KNeighborsClassifier\n",
    "from sklearn.svm import SVC"
   ]
  },
  {
   "cell_type": "raw",
   "id": "e1f52a55",
   "metadata": {
    "papermill": {
     "duration": 0.013029,
     "end_time": "2023-03-19T10:57:21.509748",
     "exception": false,
     "start_time": "2023-03-19T10:57:21.496719",
     "status": "completed"
    },
    "tags": []
   },
   "source": [
    "#About this dataset\n",
    "Age: age of the patient [years]\n",
    "Sex: sex of the patient [M: Male, F: Female]\n",
    "ChestPainType: chest pain type [TA: Typical Angina, ATA: Atypical Angina, NAP: Non-Anginal Pain, ASY: Asymptomatic]\n",
    "RestingBP: resting blood pressure [mm Hg]\n",
    "Cholesterol: serum cholesterol [mm/dl]\n",
    "FastingBS: fasting blood sugar [1: if FastingBS > 120 mg/dl, 0: otherwise]\n",
    "RestingECG: resting electrocardiogram results [Normal: Normal, ST: having ST-T wave abnormality (T wave inversions and/or ST elevation or depression of > 0.05 mV), LVH: showing probable or definite left ventricular hypertrophy by Estes' criteria]\n",
    "MaxHR: maximum heart rate achieved [Numeric value between 60 and 202]\n",
    "ExerciseAngina: exercise-induced angina [Y: Yes, N: No]\n",
    "Oldpeak: oldpeak = ST [Numeric value measured in depression]\n",
    "ST_Slope: the slope of the peak exercise ST segment [Up: upsloping, Flat: flat, Down: downsloping]\n",
    "HeartDisease: output class [1: heart disease, 0: Normal]"
   ]
  },
  {
   "cell_type": "code",
   "execution_count": 2,
   "id": "c1324b4c",
   "metadata": {
    "execution": {
     "iopub.execute_input": "2023-03-19T10:57:21.537472Z",
     "iopub.status.busy": "2023-03-19T10:57:21.537114Z",
     "iopub.status.idle": "2023-03-19T10:57:21.577502Z",
     "shell.execute_reply": "2023-03-19T10:57:21.576800Z"
    },
    "papermill": {
     "duration": 0.056507,
     "end_time": "2023-03-19T10:57:21.579239",
     "exception": false,
     "start_time": "2023-03-19T10:57:21.522732",
     "status": "completed"
    },
    "tags": []
   },
   "outputs": [
    {
     "data": {
      "text/html": [
       "<div>\n",
       "<style scoped>\n",
       "    .dataframe tbody tr th:only-of-type {\n",
       "        vertical-align: middle;\n",
       "    }\n",
       "\n",
       "    .dataframe tbody tr th {\n",
       "        vertical-align: top;\n",
       "    }\n",
       "\n",
       "    .dataframe thead th {\n",
       "        text-align: right;\n",
       "    }\n",
       "</style>\n",
       "<table border=\"1\" class=\"dataframe\">\n",
       "  <thead>\n",
       "    <tr style=\"text-align: right;\">\n",
       "      <th></th>\n",
       "      <th>Age</th>\n",
       "      <th>Sex</th>\n",
       "      <th>ChestPainType</th>\n",
       "      <th>RestingBP</th>\n",
       "      <th>Cholesterol</th>\n",
       "      <th>FastingBS</th>\n",
       "      <th>RestingECG</th>\n",
       "      <th>MaxHR</th>\n",
       "      <th>ExerciseAngina</th>\n",
       "      <th>Oldpeak</th>\n",
       "      <th>ST_Slope</th>\n",
       "      <th>HeartDisease</th>\n",
       "    </tr>\n",
       "  </thead>\n",
       "  <tbody>\n",
       "    <tr>\n",
       "      <th>0</th>\n",
       "      <td>40</td>\n",
       "      <td>M</td>\n",
       "      <td>ATA</td>\n",
       "      <td>140</td>\n",
       "      <td>289</td>\n",
       "      <td>0</td>\n",
       "      <td>Normal</td>\n",
       "      <td>172</td>\n",
       "      <td>N</td>\n",
       "      <td>0.0</td>\n",
       "      <td>Up</td>\n",
       "      <td>0</td>\n",
       "    </tr>\n",
       "    <tr>\n",
       "      <th>1</th>\n",
       "      <td>49</td>\n",
       "      <td>F</td>\n",
       "      <td>NAP</td>\n",
       "      <td>160</td>\n",
       "      <td>180</td>\n",
       "      <td>0</td>\n",
       "      <td>Normal</td>\n",
       "      <td>156</td>\n",
       "      <td>N</td>\n",
       "      <td>1.0</td>\n",
       "      <td>Flat</td>\n",
       "      <td>1</td>\n",
       "    </tr>\n",
       "    <tr>\n",
       "      <th>2</th>\n",
       "      <td>37</td>\n",
       "      <td>M</td>\n",
       "      <td>ATA</td>\n",
       "      <td>130</td>\n",
       "      <td>283</td>\n",
       "      <td>0</td>\n",
       "      <td>ST</td>\n",
       "      <td>98</td>\n",
       "      <td>N</td>\n",
       "      <td>0.0</td>\n",
       "      <td>Up</td>\n",
       "      <td>0</td>\n",
       "    </tr>\n",
       "    <tr>\n",
       "      <th>3</th>\n",
       "      <td>48</td>\n",
       "      <td>F</td>\n",
       "      <td>ASY</td>\n",
       "      <td>138</td>\n",
       "      <td>214</td>\n",
       "      <td>0</td>\n",
       "      <td>Normal</td>\n",
       "      <td>108</td>\n",
       "      <td>Y</td>\n",
       "      <td>1.5</td>\n",
       "      <td>Flat</td>\n",
       "      <td>1</td>\n",
       "    </tr>\n",
       "    <tr>\n",
       "      <th>4</th>\n",
       "      <td>54</td>\n",
       "      <td>M</td>\n",
       "      <td>NAP</td>\n",
       "      <td>150</td>\n",
       "      <td>195</td>\n",
       "      <td>0</td>\n",
       "      <td>Normal</td>\n",
       "      <td>122</td>\n",
       "      <td>N</td>\n",
       "      <td>0.0</td>\n",
       "      <td>Up</td>\n",
       "      <td>0</td>\n",
       "    </tr>\n",
       "  </tbody>\n",
       "</table>\n",
       "</div>"
      ],
      "text/plain": [
       "   Age Sex ChestPainType  RestingBP  Cholesterol  FastingBS RestingECG  MaxHR  \\\n",
       "0   40   M           ATA        140          289          0     Normal    172   \n",
       "1   49   F           NAP        160          180          0     Normal    156   \n",
       "2   37   M           ATA        130          283          0         ST     98   \n",
       "3   48   F           ASY        138          214          0     Normal    108   \n",
       "4   54   M           NAP        150          195          0     Normal    122   \n",
       "\n",
       "  ExerciseAngina  Oldpeak ST_Slope  HeartDisease  \n",
       "0              N      0.0       Up             0  \n",
       "1              N      1.0     Flat             1  \n",
       "2              N      0.0       Up             0  \n",
       "3              Y      1.5     Flat             1  \n",
       "4              N      0.0       Up             0  "
      ]
     },
     "execution_count": 2,
     "metadata": {},
     "output_type": "execute_result"
    }
   ],
   "source": [
    "df=pd.read_csv('heart.csv')\n",
    "df.head()"
   ]
  },
  {
   "cell_type": "code",
   "execution_count": 3,
   "id": "3108aeeb",
   "metadata": {
    "execution": {
     "iopub.execute_input": "2023-03-19T10:57:21.607859Z",
     "iopub.status.busy": "2023-03-19T10:57:21.606984Z",
     "iopub.status.idle": "2023-03-19T10:57:21.612787Z",
     "shell.execute_reply": "2023-03-19T10:57:21.612109Z"
    },
    "papermill": {
     "duration": 0.021673,
     "end_time": "2023-03-19T10:57:21.614534",
     "exception": false,
     "start_time": "2023-03-19T10:57:21.592861",
     "status": "completed"
    },
    "tags": []
   },
   "outputs": [
    {
     "data": {
      "text/plain": [
       "(918, 12)"
      ]
     },
     "execution_count": 3,
     "metadata": {},
     "output_type": "execute_result"
    }
   ],
   "source": [
    "df.shape"
   ]
  },
  {
   "cell_type": "code",
   "execution_count": 4,
   "id": "d4ea062d",
   "metadata": {
    "execution": {
     "iopub.execute_input": "2023-03-19T10:57:21.643440Z",
     "iopub.status.busy": "2023-03-19T10:57:21.642551Z",
     "iopub.status.idle": "2023-03-19T10:57:21.665214Z",
     "shell.execute_reply": "2023-03-19T10:57:21.663779Z"
    },
    "papermill": {
     "duration": 0.040169,
     "end_time": "2023-03-19T10:57:21.667907",
     "exception": false,
     "start_time": "2023-03-19T10:57:21.627738",
     "status": "completed"
    },
    "tags": []
   },
   "outputs": [
    {
     "name": "stdout",
     "output_type": "stream",
     "text": [
      "<class 'pandas.core.frame.DataFrame'>\n",
      "RangeIndex: 918 entries, 0 to 917\n",
      "Data columns (total 12 columns):\n",
      " #   Column          Non-Null Count  Dtype  \n",
      "---  ------          --------------  -----  \n",
      " 0   Age             918 non-null    int64  \n",
      " 1   Sex             918 non-null    object \n",
      " 2   ChestPainType   918 non-null    object \n",
      " 3   RestingBP       918 non-null    int64  \n",
      " 4   Cholesterol     918 non-null    int64  \n",
      " 5   FastingBS       918 non-null    int64  \n",
      " 6   RestingECG      918 non-null    object \n",
      " 7   MaxHR           918 non-null    int64  \n",
      " 8   ExerciseAngina  918 non-null    object \n",
      " 9   Oldpeak         918 non-null    float64\n",
      " 10  ST_Slope        918 non-null    object \n",
      " 11  HeartDisease    918 non-null    int64  \n",
      "dtypes: float64(1), int64(6), object(5)\n",
      "memory usage: 86.2+ KB\n"
     ]
    }
   ],
   "source": [
    "df.info()"
   ]
  },
  {
   "cell_type": "code",
   "execution_count": 5,
   "id": "15e3816e",
   "metadata": {
    "execution": {
     "iopub.execute_input": "2023-03-19T10:57:21.702517Z",
     "iopub.status.busy": "2023-03-19T10:57:21.701793Z",
     "iopub.status.idle": "2023-03-19T10:57:21.731142Z",
     "shell.execute_reply": "2023-03-19T10:57:21.730173Z"
    },
    "papermill": {
     "duration": 0.048649,
     "end_time": "2023-03-19T10:57:21.733116",
     "exception": false,
     "start_time": "2023-03-19T10:57:21.684467",
     "status": "completed"
    },
    "tags": []
   },
   "outputs": [
    {
     "data": {
      "text/html": [
       "<div>\n",
       "<style scoped>\n",
       "    .dataframe tbody tr th:only-of-type {\n",
       "        vertical-align: middle;\n",
       "    }\n",
       "\n",
       "    .dataframe tbody tr th {\n",
       "        vertical-align: top;\n",
       "    }\n",
       "\n",
       "    .dataframe thead th {\n",
       "        text-align: right;\n",
       "    }\n",
       "</style>\n",
       "<table border=\"1\" class=\"dataframe\">\n",
       "  <thead>\n",
       "    <tr style=\"text-align: right;\">\n",
       "      <th></th>\n",
       "      <th>Age</th>\n",
       "      <th>Sex</th>\n",
       "      <th>ChestPainType</th>\n",
       "      <th>RestingBP</th>\n",
       "      <th>Cholesterol</th>\n",
       "      <th>FastingBS</th>\n",
       "      <th>RestingECG</th>\n",
       "      <th>MaxHR</th>\n",
       "      <th>ExerciseAngina</th>\n",
       "      <th>Oldpeak</th>\n",
       "      <th>ST_Slope</th>\n",
       "      <th>HeartDisease</th>\n",
       "    </tr>\n",
       "  </thead>\n",
       "  <tbody>\n",
       "    <tr>\n",
       "      <th>0</th>\n",
       "      <td>40</td>\n",
       "      <td>M</td>\n",
       "      <td>ATA</td>\n",
       "      <td>140</td>\n",
       "      <td>289</td>\n",
       "      <td>0</td>\n",
       "      <td>Normal</td>\n",
       "      <td>172</td>\n",
       "      <td>N</td>\n",
       "      <td>0.0</td>\n",
       "      <td>Up</td>\n",
       "      <td>0</td>\n",
       "    </tr>\n",
       "    <tr>\n",
       "      <th>1</th>\n",
       "      <td>49</td>\n",
       "      <td>F</td>\n",
       "      <td>NAP</td>\n",
       "      <td>160</td>\n",
       "      <td>180</td>\n",
       "      <td>0</td>\n",
       "      <td>Normal</td>\n",
       "      <td>156</td>\n",
       "      <td>N</td>\n",
       "      <td>1.0</td>\n",
       "      <td>Flat</td>\n",
       "      <td>1</td>\n",
       "    </tr>\n",
       "    <tr>\n",
       "      <th>2</th>\n",
       "      <td>37</td>\n",
       "      <td>M</td>\n",
       "      <td>ATA</td>\n",
       "      <td>130</td>\n",
       "      <td>283</td>\n",
       "      <td>0</td>\n",
       "      <td>ST</td>\n",
       "      <td>98</td>\n",
       "      <td>N</td>\n",
       "      <td>0.0</td>\n",
       "      <td>Up</td>\n",
       "      <td>0</td>\n",
       "    </tr>\n",
       "    <tr>\n",
       "      <th>3</th>\n",
       "      <td>48</td>\n",
       "      <td>F</td>\n",
       "      <td>ASY</td>\n",
       "      <td>138</td>\n",
       "      <td>214</td>\n",
       "      <td>0</td>\n",
       "      <td>Normal</td>\n",
       "      <td>108</td>\n",
       "      <td>Y</td>\n",
       "      <td>1.5</td>\n",
       "      <td>Flat</td>\n",
       "      <td>1</td>\n",
       "    </tr>\n",
       "    <tr>\n",
       "      <th>4</th>\n",
       "      <td>54</td>\n",
       "      <td>M</td>\n",
       "      <td>NAP</td>\n",
       "      <td>150</td>\n",
       "      <td>195</td>\n",
       "      <td>0</td>\n",
       "      <td>Normal</td>\n",
       "      <td>122</td>\n",
       "      <td>N</td>\n",
       "      <td>0.0</td>\n",
       "      <td>Up</td>\n",
       "      <td>0</td>\n",
       "    </tr>\n",
       "    <tr>\n",
       "      <th>...</th>\n",
       "      <td>...</td>\n",
       "      <td>...</td>\n",
       "      <td>...</td>\n",
       "      <td>...</td>\n",
       "      <td>...</td>\n",
       "      <td>...</td>\n",
       "      <td>...</td>\n",
       "      <td>...</td>\n",
       "      <td>...</td>\n",
       "      <td>...</td>\n",
       "      <td>...</td>\n",
       "      <td>...</td>\n",
       "    </tr>\n",
       "    <tr>\n",
       "      <th>913</th>\n",
       "      <td>45</td>\n",
       "      <td>M</td>\n",
       "      <td>TA</td>\n",
       "      <td>110</td>\n",
       "      <td>264</td>\n",
       "      <td>0</td>\n",
       "      <td>Normal</td>\n",
       "      <td>132</td>\n",
       "      <td>N</td>\n",
       "      <td>1.2</td>\n",
       "      <td>Flat</td>\n",
       "      <td>1</td>\n",
       "    </tr>\n",
       "    <tr>\n",
       "      <th>914</th>\n",
       "      <td>68</td>\n",
       "      <td>M</td>\n",
       "      <td>ASY</td>\n",
       "      <td>144</td>\n",
       "      <td>193</td>\n",
       "      <td>1</td>\n",
       "      <td>Normal</td>\n",
       "      <td>141</td>\n",
       "      <td>N</td>\n",
       "      <td>3.4</td>\n",
       "      <td>Flat</td>\n",
       "      <td>1</td>\n",
       "    </tr>\n",
       "    <tr>\n",
       "      <th>915</th>\n",
       "      <td>57</td>\n",
       "      <td>M</td>\n",
       "      <td>ASY</td>\n",
       "      <td>130</td>\n",
       "      <td>131</td>\n",
       "      <td>0</td>\n",
       "      <td>Normal</td>\n",
       "      <td>115</td>\n",
       "      <td>Y</td>\n",
       "      <td>1.2</td>\n",
       "      <td>Flat</td>\n",
       "      <td>1</td>\n",
       "    </tr>\n",
       "    <tr>\n",
       "      <th>916</th>\n",
       "      <td>57</td>\n",
       "      <td>F</td>\n",
       "      <td>ATA</td>\n",
       "      <td>130</td>\n",
       "      <td>236</td>\n",
       "      <td>0</td>\n",
       "      <td>LVH</td>\n",
       "      <td>174</td>\n",
       "      <td>N</td>\n",
       "      <td>0.0</td>\n",
       "      <td>Flat</td>\n",
       "      <td>1</td>\n",
       "    </tr>\n",
       "    <tr>\n",
       "      <th>917</th>\n",
       "      <td>38</td>\n",
       "      <td>M</td>\n",
       "      <td>NAP</td>\n",
       "      <td>138</td>\n",
       "      <td>175</td>\n",
       "      <td>0</td>\n",
       "      <td>Normal</td>\n",
       "      <td>173</td>\n",
       "      <td>N</td>\n",
       "      <td>0.0</td>\n",
       "      <td>Up</td>\n",
       "      <td>0</td>\n",
       "    </tr>\n",
       "  </tbody>\n",
       "</table>\n",
       "<p>918 rows × 12 columns</p>\n",
       "</div>"
      ],
      "text/plain": [
       "     Age Sex ChestPainType  RestingBP  Cholesterol  FastingBS RestingECG  \\\n",
       "0     40   M           ATA        140          289          0     Normal   \n",
       "1     49   F           NAP        160          180          0     Normal   \n",
       "2     37   M           ATA        130          283          0         ST   \n",
       "3     48   F           ASY        138          214          0     Normal   \n",
       "4     54   M           NAP        150          195          0     Normal   \n",
       "..   ...  ..           ...        ...          ...        ...        ...   \n",
       "913   45   M            TA        110          264          0     Normal   \n",
       "914   68   M           ASY        144          193          1     Normal   \n",
       "915   57   M           ASY        130          131          0     Normal   \n",
       "916   57   F           ATA        130          236          0        LVH   \n",
       "917   38   M           NAP        138          175          0     Normal   \n",
       "\n",
       "     MaxHR ExerciseAngina  Oldpeak ST_Slope  HeartDisease  \n",
       "0      172              N      0.0       Up             0  \n",
       "1      156              N      1.0     Flat             1  \n",
       "2       98              N      0.0       Up             0  \n",
       "3      108              Y      1.5     Flat             1  \n",
       "4      122              N      0.0       Up             0  \n",
       "..     ...            ...      ...      ...           ...  \n",
       "913    132              N      1.2     Flat             1  \n",
       "914    141              N      3.4     Flat             1  \n",
       "915    115              Y      1.2     Flat             1  \n",
       "916    174              N      0.0     Flat             1  \n",
       "917    173              N      0.0       Up             0  \n",
       "\n",
       "[918 rows x 12 columns]"
      ]
     },
     "execution_count": 5,
     "metadata": {},
     "output_type": "execute_result"
    }
   ],
   "source": [
    "df.drop_duplicates()"
   ]
  },
  {
   "cell_type": "code",
   "execution_count": 6,
   "id": "588fefbf",
   "metadata": {
    "execution": {
     "iopub.execute_input": "2023-03-19T10:57:21.764541Z",
     "iopub.status.busy": "2023-03-19T10:57:21.763503Z",
     "iopub.status.idle": "2023-03-19T10:57:21.768911Z",
     "shell.execute_reply": "2023-03-19T10:57:21.767822Z"
    },
    "papermill": {
     "duration": 0.023128,
     "end_time": "2023-03-19T10:57:21.771064",
     "exception": false,
     "start_time": "2023-03-19T10:57:21.747936",
     "status": "completed"
    },
    "tags": []
   },
   "outputs": [],
   "source": [
    "continuos_f = [\"Age\", \"RestingBP\", \"Cholesterol\", \"MaxHR\", \"Oldpeak\"]\n",
    "categorical_f = [\"ChestPainType\", \"RestingECG\", \"ST_Slope\"]\n",
    "binaries_f = [\"Sex\", \"FastingBS\", \"ExerciseAngina\"]"
   ]
  },
  {
   "cell_type": "code",
   "execution_count": 7,
   "id": "10267302",
   "metadata": {
    "execution": {
     "iopub.execute_input": "2023-03-19T10:57:21.801777Z",
     "iopub.status.busy": "2023-03-19T10:57:21.800730Z",
     "iopub.status.idle": "2023-03-19T10:57:21.810424Z",
     "shell.execute_reply": "2023-03-19T10:57:21.809356Z"
    },
    "papermill": {
     "duration": 0.026788,
     "end_time": "2023-03-19T10:57:21.812216",
     "exception": false,
     "start_time": "2023-03-19T10:57:21.785428",
     "status": "completed"
    },
    "tags": []
   },
   "outputs": [
    {
     "data": {
      "text/plain": [
       "Age               False\n",
       "Sex               False\n",
       "ChestPainType     False\n",
       "RestingBP         False\n",
       "Cholesterol       False\n",
       "FastingBS         False\n",
       "RestingECG        False\n",
       "MaxHR             False\n",
       "ExerciseAngina    False\n",
       "Oldpeak           False\n",
       "ST_Slope          False\n",
       "HeartDisease      False\n",
       "dtype: bool"
      ]
     },
     "execution_count": 7,
     "metadata": {},
     "output_type": "execute_result"
    }
   ],
   "source": [
    "df.isna().all()"
   ]
  },
  {
   "cell_type": "code",
   "execution_count": 8,
   "id": "e22367a6",
   "metadata": {
    "execution": {
     "iopub.execute_input": "2023-03-19T10:57:21.842802Z",
     "iopub.status.busy": "2023-03-19T10:57:21.842353Z",
     "iopub.status.idle": "2023-03-19T10:57:21.868054Z",
     "shell.execute_reply": "2023-03-19T10:57:21.866805Z"
    },
    "papermill": {
     "duration": 0.043316,
     "end_time": "2023-03-19T10:57:21.870201",
     "exception": false,
     "start_time": "2023-03-19T10:57:21.826885",
     "status": "completed"
    },
    "tags": []
   },
   "outputs": [
    {
     "data": {
      "text/html": [
       "<div>\n",
       "<style scoped>\n",
       "    .dataframe tbody tr th:only-of-type {\n",
       "        vertical-align: middle;\n",
       "    }\n",
       "\n",
       "    .dataframe tbody tr th {\n",
       "        vertical-align: top;\n",
       "    }\n",
       "\n",
       "    .dataframe thead th {\n",
       "        text-align: right;\n",
       "    }\n",
       "</style>\n",
       "<table border=\"1\" class=\"dataframe\">\n",
       "  <thead>\n",
       "    <tr style=\"text-align: right;\">\n",
       "      <th></th>\n",
       "      <th>Age</th>\n",
       "      <th>RestingBP</th>\n",
       "      <th>Cholesterol</th>\n",
       "      <th>MaxHR</th>\n",
       "      <th>Oldpeak</th>\n",
       "    </tr>\n",
       "  </thead>\n",
       "  <tbody>\n",
       "    <tr>\n",
       "      <th>count</th>\n",
       "      <td>918.000000</td>\n",
       "      <td>918.000000</td>\n",
       "      <td>918.000000</td>\n",
       "      <td>918.000000</td>\n",
       "      <td>918.000000</td>\n",
       "    </tr>\n",
       "    <tr>\n",
       "      <th>mean</th>\n",
       "      <td>53.510893</td>\n",
       "      <td>132.396514</td>\n",
       "      <td>198.799564</td>\n",
       "      <td>136.809368</td>\n",
       "      <td>0.887364</td>\n",
       "    </tr>\n",
       "    <tr>\n",
       "      <th>std</th>\n",
       "      <td>9.432617</td>\n",
       "      <td>18.514154</td>\n",
       "      <td>109.384145</td>\n",
       "      <td>25.460334</td>\n",
       "      <td>1.066570</td>\n",
       "    </tr>\n",
       "    <tr>\n",
       "      <th>min</th>\n",
       "      <td>28.000000</td>\n",
       "      <td>0.000000</td>\n",
       "      <td>0.000000</td>\n",
       "      <td>60.000000</td>\n",
       "      <td>-2.600000</td>\n",
       "    </tr>\n",
       "    <tr>\n",
       "      <th>25%</th>\n",
       "      <td>47.000000</td>\n",
       "      <td>120.000000</td>\n",
       "      <td>173.250000</td>\n",
       "      <td>120.000000</td>\n",
       "      <td>0.000000</td>\n",
       "    </tr>\n",
       "    <tr>\n",
       "      <th>50%</th>\n",
       "      <td>54.000000</td>\n",
       "      <td>130.000000</td>\n",
       "      <td>223.000000</td>\n",
       "      <td>138.000000</td>\n",
       "      <td>0.600000</td>\n",
       "    </tr>\n",
       "    <tr>\n",
       "      <th>75%</th>\n",
       "      <td>60.000000</td>\n",
       "      <td>140.000000</td>\n",
       "      <td>267.000000</td>\n",
       "      <td>156.000000</td>\n",
       "      <td>1.500000</td>\n",
       "    </tr>\n",
       "    <tr>\n",
       "      <th>max</th>\n",
       "      <td>77.000000</td>\n",
       "      <td>200.000000</td>\n",
       "      <td>603.000000</td>\n",
       "      <td>202.000000</td>\n",
       "      <td>6.200000</td>\n",
       "    </tr>\n",
       "  </tbody>\n",
       "</table>\n",
       "</div>"
      ],
      "text/plain": [
       "              Age   RestingBP  Cholesterol       MaxHR     Oldpeak\n",
       "count  918.000000  918.000000   918.000000  918.000000  918.000000\n",
       "mean    53.510893  132.396514   198.799564  136.809368    0.887364\n",
       "std      9.432617   18.514154   109.384145   25.460334    1.066570\n",
       "min     28.000000    0.000000     0.000000   60.000000   -2.600000\n",
       "25%     47.000000  120.000000   173.250000  120.000000    0.000000\n",
       "50%     54.000000  130.000000   223.000000  138.000000    0.600000\n",
       "75%     60.000000  140.000000   267.000000  156.000000    1.500000\n",
       "max     77.000000  200.000000   603.000000  202.000000    6.200000"
      ]
     },
     "execution_count": 8,
     "metadata": {},
     "output_type": "execute_result"
    }
   ],
   "source": [
    "df[continuos_f].describe()"
   ]
  },
  {
   "cell_type": "code",
   "execution_count": 9,
   "id": "9061f855",
   "metadata": {
    "execution": {
     "iopub.execute_input": "2023-03-19T10:57:21.901538Z",
     "iopub.status.busy": "2023-03-19T10:57:21.901199Z",
     "iopub.status.idle": "2023-03-19T10:57:24.858661Z",
     "shell.execute_reply": "2023-03-19T10:57:24.857859Z"
    },
    "papermill": {
     "duration": 2.97551,
     "end_time": "2023-03-19T10:57:24.860799",
     "exception": false,
     "start_time": "2023-03-19T10:57:21.885289",
     "status": "completed"
    },
    "tags": []
   },
   "outputs": [
    {
     "data": {
      "text/plain": [
       "<Figure size 576x396 with 0 Axes>"
      ]
     },
     "metadata": {},
     "output_type": "display_data"
    },
    {
     "data": {
      "image/png": "[encoded data removed]",
      "text/plain": [
       "<Figure size 1080x2016 with 12 Axes>"
      ]
     },
     "metadata": {},
     "output_type": "display_data"
    }
   ],
   "source": [
    "plt.style.use(\"seaborn\")\n",
    "plt.subplots_adjust(hspace=0.2)\n",
    "color = 'winter'\n",
    "\n",
    "fig, axs = plt.subplots(6, 2, figsize=(15,28))\n",
    "i=1\n",
    "for feature in df.columns:\n",
    "    if feature not in [\"HeartDisease\"] and i < 14:\n",
    "        plt.subplot(6,2,i)\n",
    "        sns.histplot(data=df, x=feature, kde=True, palette=color, hue='HeartDisease')\n",
    "        i+=1"
   ]
  },
  {
   "attachments": {},
   "cell_type": "markdown",
   "id": "ef7c4bfe",
   "metadata": {
    "papermill": {
     "duration": 0.02074,
     "end_time": "2023-03-19T10:57:24.900875",
     "exception": false,
     "start_time": "2023-03-19T10:57:24.880135",
     "status": "completed"
    },
    "tags": []
   },
   "source": [
    "# Outlier Detection\n",
    "We have previously seen that features like cholesterol and resting blood pressure present atypical cases, this cases not represent the condition of general population and this data type we don't useful to train our model of predictions, let's see how to treat them:"
   ]
  },
  {
   "cell_type": "code",
   "execution_count": 10,
   "id": "30be43d5",
   "metadata": {
    "execution": {
     "iopub.execute_input": "2023-03-19T10:57:24.943205Z",
     "iopub.status.busy": "2023-03-19T10:57:24.942149Z",
     "iopub.status.idle": "2023-03-19T10:57:24.950323Z",
     "shell.execute_reply": "2023-03-19T10:57:24.949627Z"
    },
    "papermill": {
     "duration": 0.031657,
     "end_time": "2023-03-19T10:57:24.952485",
     "exception": false,
     "start_time": "2023-03-19T10:57:24.920828",
     "status": "completed"
    },
    "tags": []
   },
   "outputs": [],
   "source": [
    "def detect_outliers(label=None):\n",
    "    Q1 = df[label].quantile(0.25)\n",
    "    Q3 = df[label].quantile(0.75)\n",
    "    IQR = Q3 - Q1\n",
    "    interval = ((df[label] > Q1 - 1.5*IQR) & (df[label] < Q3 + 1.5*IQR))\n",
    "    return df[interval], df[~interval]\n",
    "\n",
    "def assign_mean(df_out, not_df_out, label=None):\n",
    "    df.loc[df_out[df_out[\"HeartDisease\"] == 0].index, label] = not_df_out[not_df_out[\"HeartDisease\"] == 0][label].mean()\n",
    "    df.loc[df_out[df_out[\"HeartDisease\"] == 1].index, label] = not_df_out[not_df_out[\"HeartDisease\"] == 1][label].mean()\n",
    "    return\n",
    "\n",
    "def delete_outliers(df_out):\n",
    "    return df.drop(df_out.index)"
   ]
  },
  {
   "attachments": {},
   "cell_type": "markdown",
   "id": "f0d3bd86",
   "metadata": {
    "papermill": {
     "duration": 0.019273,
     "end_time": "2023-03-19T10:57:24.992481",
     "exception": false,
     "start_time": "2023-03-19T10:57:24.973208",
     "status": "completed"
    },
    "tags": []
   },
   "source": [
    "# Cholesterol"
   ]
  },
  {
   "cell_type": "code",
   "execution_count": 11,
   "id": "baaef987",
   "metadata": {
    "execution": {
     "iopub.execute_input": "2023-03-19T10:57:25.032705Z",
     "iopub.status.busy": "2023-03-19T10:57:25.032184Z",
     "iopub.status.idle": "2023-03-19T10:57:25.188294Z",
     "shell.execute_reply": "2023-03-19T10:57:25.187377Z"
    },
    "papermill": {
     "duration": 0.178546,
     "end_time": "2023-03-19T10:57:25.190228",
     "exception": false,
     "start_time": "2023-03-19T10:57:25.011682",
     "status": "completed"
    },
    "tags": []
   },
   "outputs": [
    {
     "data": {
      "text/plain": [
       "<AxesSubplot:xlabel='Cholesterol'>"
      ]
     },
     "execution_count": 11,
     "metadata": {},
     "output_type": "execute_result"
    },
    {
     "data": {
      "image/png": "[encoded data removed]",
      "text/plain": [
       "<Figure size 1440x360 with 1 Axes>"
      ]
     },
     "metadata": {},
     "output_type": "display_data"
    }
   ],
   "source": [
    "plt.figure(figsize=(20,5))\n",
    "sns.boxplot(data=df, x=\"Cholesterol\")"
   ]
  },
  {
   "cell_type": "code",
   "execution_count": 12,
   "id": "ba717a4a",
   "metadata": {
    "execution": {
     "iopub.execute_input": "2023-03-19T10:57:25.231492Z",
     "iopub.status.busy": "2023-03-19T10:57:25.231080Z",
     "iopub.status.idle": "2023-03-19T10:57:25.254167Z",
     "shell.execute_reply": "2023-03-19T10:57:25.253035Z"
    },
    "papermill": {
     "duration": 0.046352,
     "end_time": "2023-03-19T10:57:25.256454",
     "exception": false,
     "start_time": "2023-03-19T10:57:25.210102",
     "status": "completed"
    },
    "tags": []
   },
   "outputs": [
    {
     "name": "stdout",
     "output_type": "stream",
     "text": [
      "Outliers in cholesterol represent the 19.93% of our dataset\n"
     ]
    },
    {
     "data": {
      "text/html": [
       "<div>\n",
       "<style scoped>\n",
       "    .dataframe tbody tr th:only-of-type {\n",
       "        vertical-align: middle;\n",
       "    }\n",
       "\n",
       "    .dataframe tbody tr th {\n",
       "        vertical-align: top;\n",
       "    }\n",
       "\n",
       "    .dataframe thead th {\n",
       "        text-align: right;\n",
       "    }\n",
       "</style>\n",
       "<table border=\"1\" class=\"dataframe\">\n",
       "  <thead>\n",
       "    <tr style=\"text-align: right;\">\n",
       "      <th></th>\n",
       "      <th>Age</th>\n",
       "      <th>Sex</th>\n",
       "      <th>ChestPainType</th>\n",
       "      <th>RestingBP</th>\n",
       "      <th>Cholesterol</th>\n",
       "      <th>FastingBS</th>\n",
       "      <th>RestingECG</th>\n",
       "      <th>MaxHR</th>\n",
       "      <th>ExerciseAngina</th>\n",
       "      <th>Oldpeak</th>\n",
       "      <th>ST_Slope</th>\n",
       "      <th>HeartDisease</th>\n",
       "    </tr>\n",
       "  </thead>\n",
       "  <tbody>\n",
       "    <tr>\n",
       "      <th>28</th>\n",
       "      <td>53</td>\n",
       "      <td>F</td>\n",
       "      <td>ATA</td>\n",
       "      <td>113</td>\n",
       "      <td>468</td>\n",
       "      <td>0</td>\n",
       "      <td>Normal</td>\n",
       "      <td>127</td>\n",
       "      <td>N</td>\n",
       "      <td>0.0</td>\n",
       "      <td>Up</td>\n",
       "      <td>0</td>\n",
       "    </tr>\n",
       "    <tr>\n",
       "      <th>30</th>\n",
       "      <td>53</td>\n",
       "      <td>M</td>\n",
       "      <td>NAP</td>\n",
       "      <td>145</td>\n",
       "      <td>518</td>\n",
       "      <td>0</td>\n",
       "      <td>Normal</td>\n",
       "      <td>130</td>\n",
       "      <td>N</td>\n",
       "      <td>0.0</td>\n",
       "      <td>Flat</td>\n",
       "      <td>1</td>\n",
       "    </tr>\n",
       "    <tr>\n",
       "      <th>69</th>\n",
       "      <td>44</td>\n",
       "      <td>M</td>\n",
       "      <td>ASY</td>\n",
       "      <td>150</td>\n",
       "      <td>412</td>\n",
       "      <td>0</td>\n",
       "      <td>Normal</td>\n",
       "      <td>170</td>\n",
       "      <td>N</td>\n",
       "      <td>0.0</td>\n",
       "      <td>Up</td>\n",
       "      <td>0</td>\n",
       "    </tr>\n",
       "    <tr>\n",
       "      <th>76</th>\n",
       "      <td>32</td>\n",
       "      <td>M</td>\n",
       "      <td>ASY</td>\n",
       "      <td>118</td>\n",
       "      <td>529</td>\n",
       "      <td>0</td>\n",
       "      <td>Normal</td>\n",
       "      <td>130</td>\n",
       "      <td>N</td>\n",
       "      <td>0.0</td>\n",
       "      <td>Flat</td>\n",
       "      <td>1</td>\n",
       "    </tr>\n",
       "    <tr>\n",
       "      <th>103</th>\n",
       "      <td>40</td>\n",
       "      <td>M</td>\n",
       "      <td>ASY</td>\n",
       "      <td>120</td>\n",
       "      <td>466</td>\n",
       "      <td>1</td>\n",
       "      <td>Normal</td>\n",
       "      <td>152</td>\n",
       "      <td>Y</td>\n",
       "      <td>1.0</td>\n",
       "      <td>Flat</td>\n",
       "      <td>1</td>\n",
       "    </tr>\n",
       "    <tr>\n",
       "      <th>...</th>\n",
       "      <td>...</td>\n",
       "      <td>...</td>\n",
       "      <td>...</td>\n",
       "      <td>...</td>\n",
       "      <td>...</td>\n",
       "      <td>...</td>\n",
       "      <td>...</td>\n",
       "      <td>...</td>\n",
       "      <td>...</td>\n",
       "      <td>...</td>\n",
       "      <td>...</td>\n",
       "      <td>...</td>\n",
       "    </tr>\n",
       "    <tr>\n",
       "      <th>535</th>\n",
       "      <td>56</td>\n",
       "      <td>M</td>\n",
       "      <td>ASY</td>\n",
       "      <td>130</td>\n",
       "      <td>0</td>\n",
       "      <td>0</td>\n",
       "      <td>LVH</td>\n",
       "      <td>122</td>\n",
       "      <td>Y</td>\n",
       "      <td>1.0</td>\n",
       "      <td>Flat</td>\n",
       "      <td>1</td>\n",
       "    </tr>\n",
       "    <tr>\n",
       "      <th>536</th>\n",
       "      <td>62</td>\n",
       "      <td>M</td>\n",
       "      <td>NAP</td>\n",
       "      <td>133</td>\n",
       "      <td>0</td>\n",
       "      <td>1</td>\n",
       "      <td>ST</td>\n",
       "      <td>119</td>\n",
       "      <td>Y</td>\n",
       "      <td>1.2</td>\n",
       "      <td>Flat</td>\n",
       "      <td>1</td>\n",
       "    </tr>\n",
       "    <tr>\n",
       "      <th>616</th>\n",
       "      <td>67</td>\n",
       "      <td>F</td>\n",
       "      <td>NAP</td>\n",
       "      <td>115</td>\n",
       "      <td>564</td>\n",
       "      <td>0</td>\n",
       "      <td>LVH</td>\n",
       "      <td>160</td>\n",
       "      <td>N</td>\n",
       "      <td>1.6</td>\n",
       "      <td>Flat</td>\n",
       "      <td>0</td>\n",
       "    </tr>\n",
       "    <tr>\n",
       "      <th>667</th>\n",
       "      <td>65</td>\n",
       "      <td>F</td>\n",
       "      <td>NAP</td>\n",
       "      <td>140</td>\n",
       "      <td>417</td>\n",
       "      <td>1</td>\n",
       "      <td>LVH</td>\n",
       "      <td>157</td>\n",
       "      <td>N</td>\n",
       "      <td>0.8</td>\n",
       "      <td>Up</td>\n",
       "      <td>0</td>\n",
       "    </tr>\n",
       "    <tr>\n",
       "      <th>796</th>\n",
       "      <td>56</td>\n",
       "      <td>F</td>\n",
       "      <td>ASY</td>\n",
       "      <td>134</td>\n",
       "      <td>409</td>\n",
       "      <td>0</td>\n",
       "      <td>LVH</td>\n",
       "      <td>150</td>\n",
       "      <td>Y</td>\n",
       "      <td>1.9</td>\n",
       "      <td>Flat</td>\n",
       "      <td>1</td>\n",
       "    </tr>\n",
       "  </tbody>\n",
       "</table>\n",
       "<p>183 rows × 12 columns</p>\n",
       "</div>"
      ],
      "text/plain": [
       "     Age Sex ChestPainType  RestingBP  Cholesterol  FastingBS RestingECG  \\\n",
       "28    53   F           ATA        113          468          0     Normal   \n",
       "30    53   M           NAP        145          518          0     Normal   \n",
       "69    44   M           ASY        150          412          0     Normal   \n",
       "76    32   M           ASY        118          529          0     Normal   \n",
       "103   40   M           ASY        120          466          1     Normal   \n",
       "..   ...  ..           ...        ...          ...        ...        ...   \n",
       "535   56   M           ASY        130            0          0        LVH   \n",
       "536   62   M           NAP        133            0          1         ST   \n",
       "616   67   F           NAP        115          564          0        LVH   \n",
       "667   65   F           NAP        140          417          1        LVH   \n",
       "796   56   F           ASY        134          409          0        LVH   \n",
       "\n",
       "     MaxHR ExerciseAngina  Oldpeak ST_Slope  HeartDisease  \n",
       "28     127              N      0.0       Up             0  \n",
       "30     130              N      0.0     Flat             1  \n",
       "69     170              N      0.0       Up             0  \n",
       "76     130              N      0.0     Flat             1  \n",
       "103    152              Y      1.0     Flat             1  \n",
       "..     ...            ...      ...      ...           ...  \n",
       "535    122              Y      1.0     Flat             1  \n",
       "536    119              Y      1.2     Flat             1  \n",
       "616    160              N      1.6     Flat             0  \n",
       "667    157              N      0.8       Up             0  \n",
       "796    150              Y      1.9     Flat             1  \n",
       "\n",
       "[183 rows x 12 columns]"
      ]
     },
     "execution_count": 12,
     "metadata": {},
     "output_type": "execute_result"
    }
   ],
   "source": [
    "not_df_out_ch, df_out_ch = detect_outliers('Cholesterol')\n",
    "print(f'Outliers in cholesterol represent the {round((df_out_ch.shape[0]*100)/df.shape[0], 2)}% of our dataset')\n",
    "df_out_ch"
   ]
  },
  {
   "attachments": {},
   "cell_type": "markdown",
   "id": "2c3ff125",
   "metadata": {
    "papermill": {
     "duration": 0.020184,
     "end_time": "2023-03-19T10:57:25.297502",
     "exception": false,
     "start_time": "2023-03-19T10:57:25.277318",
     "status": "completed"
    },
    "tags": []
   },
   "source": [
    "These outliers represent the 19.93% of our dataset. There are registers with zero values these are human errors, the best solution consist is to deleted them while the rest of the register will be assigned the mean cholesterol of the data set."
   ]
  },
  {
   "cell_type": "code",
   "execution_count": 13,
   "id": "54bca8c9",
   "metadata": {
    "execution": {
     "iopub.execute_input": "2023-03-19T10:57:25.339819Z",
     "iopub.status.busy": "2023-03-19T10:57:25.339481Z",
     "iopub.status.idle": "2023-03-19T10:57:25.755193Z",
     "shell.execute_reply": "2023-03-19T10:57:25.754503Z"
    },
    "papermill": {
     "duration": 0.43892,
     "end_time": "2023-03-19T10:57:25.756936",
     "exception": false,
     "start_time": "2023-03-19T10:57:25.318016",
     "status": "completed"
    },
    "tags": []
   },
   "outputs": [
    {
     "data": {
      "text/plain": [
       "<AxesSubplot:xlabel='Cholesterol', ylabel='Count'>"
      ]
     },
     "execution_count": 13,
     "metadata": {},
     "output_type": "execute_result"
    },
    {
     "data": {
      "image/png": "[encoded data removed]",
      "text/plain": [
       "<Figure size 1440x720 with 1 Axes>"
      ]
     },
     "metadata": {},
     "output_type": "display_data"
    }
   ],
   "source": [
    "df = delete_outliers(df_out_ch[df_out_ch[\"Cholesterol\"] == 0])\n",
    "assign_mean(df_out_ch[df_out_ch[\"Cholesterol\"] != 0], not_df_out_ch, 'Cholesterol')\n",
    "\n",
    "plt.figure(figsize=(20,10))\n",
    "sns.histplot(data=df, x='Cholesterol', kde=True, palette=color, hue='HeartDisease')"
   ]
  },
  {
   "attachments": {},
   "cell_type": "markdown",
   "id": "de55dee2",
   "metadata": {
    "papermill": {
     "duration": 0.02291,
     "end_time": "2023-03-19T10:57:25.801637",
     "exception": false,
     "start_time": "2023-03-19T10:57:25.778727",
     "status": "completed"
    },
    "tags": []
   },
   "source": [
    "# Resting Blood Pressure"
   ]
  },
  {
   "cell_type": "code",
   "execution_count": 14,
   "id": "8a18aa49",
   "metadata": {
    "execution": {
     "iopub.execute_input": "2023-03-19T10:57:25.849868Z",
     "iopub.status.busy": "2023-03-19T10:57:25.848642Z",
     "iopub.status.idle": "2023-03-19T10:57:25.999714Z",
     "shell.execute_reply": "2023-03-19T10:57:25.998677Z"
    },
    "papermill": {
     "duration": 0.177427,
     "end_time": "2023-03-19T10:57:26.001553",
     "exception": false,
     "start_time": "2023-03-19T10:57:25.824126",
     "status": "completed"
    },
    "tags": []
   },
   "outputs": [
    {
     "data": {
      "text/plain": [
       "<AxesSubplot:xlabel='RestingBP'>"
      ]
     },
     "execution_count": 14,
     "metadata": {},
     "output_type": "execute_result"
    },
    {
     "data": {
      "image/png": "[encoded data removed]",
      "text/plain": [
       "<Figure size 1440x360 with 1 Axes>"
      ]
     },
     "metadata": {},
     "output_type": "display_data"
    }
   ],
   "source": [
    "plt.figure(figsize=(20,5))\n",
    "sns.boxplot(data=df, x=\"RestingBP\")"
   ]
  },
  {
   "cell_type": "code",
   "execution_count": 15,
   "id": "f11c3645",
   "metadata": {
    "execution": {
     "iopub.execute_input": "2023-03-19T10:57:26.047121Z",
     "iopub.status.busy": "2023-03-19T10:57:26.046784Z",
     "iopub.status.idle": "2023-03-19T10:57:26.072647Z",
     "shell.execute_reply": "2023-03-19T10:57:26.071546Z"
    },
    "papermill": {
     "duration": 0.050769,
     "end_time": "2023-03-19T10:57:26.074479",
     "exception": false,
     "start_time": "2023-03-19T10:57:26.023710",
     "status": "completed"
    },
    "tags": []
   },
   "outputs": [
    {
     "name": "stdout",
     "output_type": "stream",
     "text": [
      "Outliers in resting blood pressure represent the 4.29% of our dataset\n"
     ]
    },
    {
     "data": {
      "text/html": [
       "<div>\n",
       "<style scoped>\n",
       "    .dataframe tbody tr th:only-of-type {\n",
       "        vertical-align: middle;\n",
       "    }\n",
       "\n",
       "    .dataframe tbody tr th {\n",
       "        vertical-align: top;\n",
       "    }\n",
       "\n",
       "    .dataframe thead th {\n",
       "        text-align: right;\n",
       "    }\n",
       "</style>\n",
       "<table border=\"1\" class=\"dataframe\">\n",
       "  <thead>\n",
       "    <tr style=\"text-align: right;\">\n",
       "      <th></th>\n",
       "      <th>Age</th>\n",
       "      <th>Sex</th>\n",
       "      <th>ChestPainType</th>\n",
       "      <th>RestingBP</th>\n",
       "      <th>Cholesterol</th>\n",
       "      <th>FastingBS</th>\n",
       "      <th>RestingECG</th>\n",
       "      <th>MaxHR</th>\n",
       "      <th>ExerciseAngina</th>\n",
       "      <th>Oldpeak</th>\n",
       "      <th>ST_Slope</th>\n",
       "      <th>HeartDisease</th>\n",
       "    </tr>\n",
       "  </thead>\n",
       "  <tbody>\n",
       "    <tr>\n",
       "      <th>86</th>\n",
       "      <td>65</td>\n",
       "      <td>M</td>\n",
       "      <td>ASY</td>\n",
       "      <td>170</td>\n",
       "      <td>263.0</td>\n",
       "      <td>1</td>\n",
       "      <td>Normal</td>\n",
       "      <td>112</td>\n",
       "      <td>Y</td>\n",
       "      <td>2.0</td>\n",
       "      <td>Flat</td>\n",
       "      <td>1</td>\n",
       "    </tr>\n",
       "    <tr>\n",
       "      <th>109</th>\n",
       "      <td>39</td>\n",
       "      <td>M</td>\n",
       "      <td>ATA</td>\n",
       "      <td>190</td>\n",
       "      <td>241.0</td>\n",
       "      <td>0</td>\n",
       "      <td>Normal</td>\n",
       "      <td>106</td>\n",
       "      <td>N</td>\n",
       "      <td>0.0</td>\n",
       "      <td>Up</td>\n",
       "      <td>0</td>\n",
       "    </tr>\n",
       "    <tr>\n",
       "      <th>123</th>\n",
       "      <td>58</td>\n",
       "      <td>F</td>\n",
       "      <td>ATA</td>\n",
       "      <td>180</td>\n",
       "      <td>393.0</td>\n",
       "      <td>0</td>\n",
       "      <td>Normal</td>\n",
       "      <td>110</td>\n",
       "      <td>Y</td>\n",
       "      <td>1.0</td>\n",
       "      <td>Flat</td>\n",
       "      <td>1</td>\n",
       "    </tr>\n",
       "    <tr>\n",
       "      <th>132</th>\n",
       "      <td>56</td>\n",
       "      <td>M</td>\n",
       "      <td>ASY</td>\n",
       "      <td>170</td>\n",
       "      <td>388.0</td>\n",
       "      <td>0</td>\n",
       "      <td>ST</td>\n",
       "      <td>122</td>\n",
       "      <td>Y</td>\n",
       "      <td>2.0</td>\n",
       "      <td>Flat</td>\n",
       "      <td>1</td>\n",
       "    </tr>\n",
       "    <tr>\n",
       "      <th>189</th>\n",
       "      <td>53</td>\n",
       "      <td>M</td>\n",
       "      <td>ASY</td>\n",
       "      <td>180</td>\n",
       "      <td>285.0</td>\n",
       "      <td>0</td>\n",
       "      <td>ST</td>\n",
       "      <td>120</td>\n",
       "      <td>Y</td>\n",
       "      <td>1.5</td>\n",
       "      <td>Flat</td>\n",
       "      <td>1</td>\n",
       "    </tr>\n",
       "    <tr>\n",
       "      <th>190</th>\n",
       "      <td>46</td>\n",
       "      <td>M</td>\n",
       "      <td>ASY</td>\n",
       "      <td>180</td>\n",
       "      <td>280.0</td>\n",
       "      <td>0</td>\n",
       "      <td>ST</td>\n",
       "      <td>120</td>\n",
       "      <td>N</td>\n",
       "      <td>0.0</td>\n",
       "      <td>Up</td>\n",
       "      <td>0</td>\n",
       "    </tr>\n",
       "    <tr>\n",
       "      <th>191</th>\n",
       "      <td>50</td>\n",
       "      <td>M</td>\n",
       "      <td>ATA</td>\n",
       "      <td>170</td>\n",
       "      <td>209.0</td>\n",
       "      <td>0</td>\n",
       "      <td>ST</td>\n",
       "      <td>116</td>\n",
       "      <td>N</td>\n",
       "      <td>0.0</td>\n",
       "      <td>Up</td>\n",
       "      <td>0</td>\n",
       "    </tr>\n",
       "    <tr>\n",
       "      <th>215</th>\n",
       "      <td>30</td>\n",
       "      <td>F</td>\n",
       "      <td>TA</td>\n",
       "      <td>170</td>\n",
       "      <td>237.0</td>\n",
       "      <td>0</td>\n",
       "      <td>ST</td>\n",
       "      <td>170</td>\n",
       "      <td>N</td>\n",
       "      <td>0.0</td>\n",
       "      <td>Up</td>\n",
       "      <td>0</td>\n",
       "    </tr>\n",
       "    <tr>\n",
       "      <th>241</th>\n",
       "      <td>54</td>\n",
       "      <td>M</td>\n",
       "      <td>ASY</td>\n",
       "      <td>200</td>\n",
       "      <td>198.0</td>\n",
       "      <td>0</td>\n",
       "      <td>Normal</td>\n",
       "      <td>142</td>\n",
       "      <td>Y</td>\n",
       "      <td>2.0</td>\n",
       "      <td>Flat</td>\n",
       "      <td>1</td>\n",
       "    </tr>\n",
       "    <tr>\n",
       "      <th>274</th>\n",
       "      <td>45</td>\n",
       "      <td>F</td>\n",
       "      <td>ATA</td>\n",
       "      <td>180</td>\n",
       "      <td>295.0</td>\n",
       "      <td>0</td>\n",
       "      <td>Normal</td>\n",
       "      <td>180</td>\n",
       "      <td>N</td>\n",
       "      <td>0.0</td>\n",
       "      <td>Up</td>\n",
       "      <td>0</td>\n",
       "    </tr>\n",
       "    <tr>\n",
       "      <th>275</th>\n",
       "      <td>59</td>\n",
       "      <td>M</td>\n",
       "      <td>NAP</td>\n",
       "      <td>180</td>\n",
       "      <td>213.0</td>\n",
       "      <td>0</td>\n",
       "      <td>Normal</td>\n",
       "      <td>100</td>\n",
       "      <td>N</td>\n",
       "      <td>0.0</td>\n",
       "      <td>Up</td>\n",
       "      <td>0</td>\n",
       "    </tr>\n",
       "    <tr>\n",
       "      <th>277</th>\n",
       "      <td>52</td>\n",
       "      <td>M</td>\n",
       "      <td>ASY</td>\n",
       "      <td>170</td>\n",
       "      <td>223.0</td>\n",
       "      <td>0</td>\n",
       "      <td>Normal</td>\n",
       "      <td>126</td>\n",
       "      <td>Y</td>\n",
       "      <td>1.5</td>\n",
       "      <td>Flat</td>\n",
       "      <td>1</td>\n",
       "    </tr>\n",
       "    <tr>\n",
       "      <th>278</th>\n",
       "      <td>57</td>\n",
       "      <td>F</td>\n",
       "      <td>ASY</td>\n",
       "      <td>180</td>\n",
       "      <td>347.0</td>\n",
       "      <td>0</td>\n",
       "      <td>ST</td>\n",
       "      <td>126</td>\n",
       "      <td>Y</td>\n",
       "      <td>0.8</td>\n",
       "      <td>Flat</td>\n",
       "      <td>0</td>\n",
       "    </tr>\n",
       "    <tr>\n",
       "      <th>432</th>\n",
       "      <td>63</td>\n",
       "      <td>M</td>\n",
       "      <td>ASY</td>\n",
       "      <td>170</td>\n",
       "      <td>177.0</td>\n",
       "      <td>0</td>\n",
       "      <td>Normal</td>\n",
       "      <td>84</td>\n",
       "      <td>Y</td>\n",
       "      <td>2.5</td>\n",
       "      <td>Down</td>\n",
       "      <td>1</td>\n",
       "    </tr>\n",
       "    <tr>\n",
       "      <th>491</th>\n",
       "      <td>75</td>\n",
       "      <td>M</td>\n",
       "      <td>ASY</td>\n",
       "      <td>170</td>\n",
       "      <td>203.0</td>\n",
       "      <td>1</td>\n",
       "      <td>ST</td>\n",
       "      <td>108</td>\n",
       "      <td>N</td>\n",
       "      <td>0.0</td>\n",
       "      <td>Flat</td>\n",
       "      <td>1</td>\n",
       "    </tr>\n",
       "    <tr>\n",
       "      <th>543</th>\n",
       "      <td>70</td>\n",
       "      <td>M</td>\n",
       "      <td>ASY</td>\n",
       "      <td>170</td>\n",
       "      <td>192.0</td>\n",
       "      <td>0</td>\n",
       "      <td>ST</td>\n",
       "      <td>129</td>\n",
       "      <td>Y</td>\n",
       "      <td>3.0</td>\n",
       "      <td>Down</td>\n",
       "      <td>1</td>\n",
       "    </tr>\n",
       "    <tr>\n",
       "      <th>550</th>\n",
       "      <td>55</td>\n",
       "      <td>M</td>\n",
       "      <td>ASY</td>\n",
       "      <td>172</td>\n",
       "      <td>260.0</td>\n",
       "      <td>0</td>\n",
       "      <td>Normal</td>\n",
       "      <td>73</td>\n",
       "      <td>N</td>\n",
       "      <td>2.0</td>\n",
       "      <td>Flat</td>\n",
       "      <td>1</td>\n",
       "    </tr>\n",
       "    <tr>\n",
       "      <th>585</th>\n",
       "      <td>57</td>\n",
       "      <td>M</td>\n",
       "      <td>ATA</td>\n",
       "      <td>180</td>\n",
       "      <td>285.0</td>\n",
       "      <td>1</td>\n",
       "      <td>ST</td>\n",
       "      <td>120</td>\n",
       "      <td>N</td>\n",
       "      <td>0.8</td>\n",
       "      <td>Flat</td>\n",
       "      <td>1</td>\n",
       "    </tr>\n",
       "    <tr>\n",
       "      <th>592</th>\n",
       "      <td>61</td>\n",
       "      <td>M</td>\n",
       "      <td>ASY</td>\n",
       "      <td>190</td>\n",
       "      <td>287.0</td>\n",
       "      <td>1</td>\n",
       "      <td>LVH</td>\n",
       "      <td>150</td>\n",
       "      <td>Y</td>\n",
       "      <td>2.0</td>\n",
       "      <td>Down</td>\n",
       "      <td>1</td>\n",
       "    </tr>\n",
       "    <tr>\n",
       "      <th>648</th>\n",
       "      <td>59</td>\n",
       "      <td>M</td>\n",
       "      <td>ASY</td>\n",
       "      <td>170</td>\n",
       "      <td>326.0</td>\n",
       "      <td>0</td>\n",
       "      <td>LVH</td>\n",
       "      <td>140</td>\n",
       "      <td>Y</td>\n",
       "      <td>3.4</td>\n",
       "      <td>Down</td>\n",
       "      <td>1</td>\n",
       "    </tr>\n",
       "    <tr>\n",
       "      <th>673</th>\n",
       "      <td>59</td>\n",
       "      <td>F</td>\n",
       "      <td>ASY</td>\n",
       "      <td>174</td>\n",
       "      <td>249.0</td>\n",
       "      <td>0</td>\n",
       "      <td>Normal</td>\n",
       "      <td>143</td>\n",
       "      <td>Y</td>\n",
       "      <td>0.0</td>\n",
       "      <td>Flat</td>\n",
       "      <td>1</td>\n",
       "    </tr>\n",
       "    <tr>\n",
       "      <th>702</th>\n",
       "      <td>59</td>\n",
       "      <td>M</td>\n",
       "      <td>TA</td>\n",
       "      <td>178</td>\n",
       "      <td>270.0</td>\n",
       "      <td>0</td>\n",
       "      <td>LVH</td>\n",
       "      <td>145</td>\n",
       "      <td>N</td>\n",
       "      <td>4.2</td>\n",
       "      <td>Down</td>\n",
       "      <td>0</td>\n",
       "    </tr>\n",
       "    <tr>\n",
       "      <th>725</th>\n",
       "      <td>55</td>\n",
       "      <td>F</td>\n",
       "      <td>ASY</td>\n",
       "      <td>180</td>\n",
       "      <td>327.0</td>\n",
       "      <td>0</td>\n",
       "      <td>ST</td>\n",
       "      <td>117</td>\n",
       "      <td>Y</td>\n",
       "      <td>3.4</td>\n",
       "      <td>Flat</td>\n",
       "      <td>1</td>\n",
       "    </tr>\n",
       "    <tr>\n",
       "      <th>732</th>\n",
       "      <td>56</td>\n",
       "      <td>F</td>\n",
       "      <td>ASY</td>\n",
       "      <td>200</td>\n",
       "      <td>288.0</td>\n",
       "      <td>1</td>\n",
       "      <td>LVH</td>\n",
       "      <td>133</td>\n",
       "      <td>Y</td>\n",
       "      <td>4.0</td>\n",
       "      <td>Down</td>\n",
       "      <td>1</td>\n",
       "    </tr>\n",
       "    <tr>\n",
       "      <th>759</th>\n",
       "      <td>54</td>\n",
       "      <td>M</td>\n",
       "      <td>ATA</td>\n",
       "      <td>192</td>\n",
       "      <td>283.0</td>\n",
       "      <td>0</td>\n",
       "      <td>LVH</td>\n",
       "      <td>195</td>\n",
       "      <td>N</td>\n",
       "      <td>0.0</td>\n",
       "      <td>Up</td>\n",
       "      <td>1</td>\n",
       "    </tr>\n",
       "    <tr>\n",
       "      <th>774</th>\n",
       "      <td>66</td>\n",
       "      <td>F</td>\n",
       "      <td>ASY</td>\n",
       "      <td>178</td>\n",
       "      <td>228.0</td>\n",
       "      <td>1</td>\n",
       "      <td>Normal</td>\n",
       "      <td>165</td>\n",
       "      <td>Y</td>\n",
       "      <td>1.0</td>\n",
       "      <td>Flat</td>\n",
       "      <td>1</td>\n",
       "    </tr>\n",
       "    <tr>\n",
       "      <th>780</th>\n",
       "      <td>64</td>\n",
       "      <td>F</td>\n",
       "      <td>ASY</td>\n",
       "      <td>180</td>\n",
       "      <td>325.0</td>\n",
       "      <td>0</td>\n",
       "      <td>Normal</td>\n",
       "      <td>154</td>\n",
       "      <td>Y</td>\n",
       "      <td>0.0</td>\n",
       "      <td>Up</td>\n",
       "      <td>0</td>\n",
       "    </tr>\n",
       "    <tr>\n",
       "      <th>825</th>\n",
       "      <td>59</td>\n",
       "      <td>M</td>\n",
       "      <td>TA</td>\n",
       "      <td>170</td>\n",
       "      <td>288.0</td>\n",
       "      <td>0</td>\n",
       "      <td>LVH</td>\n",
       "      <td>159</td>\n",
       "      <td>N</td>\n",
       "      <td>0.2</td>\n",
       "      <td>Flat</td>\n",
       "      <td>1</td>\n",
       "    </tr>\n",
       "    <tr>\n",
       "      <th>855</th>\n",
       "      <td>68</td>\n",
       "      <td>M</td>\n",
       "      <td>NAP</td>\n",
       "      <td>180</td>\n",
       "      <td>274.0</td>\n",
       "      <td>1</td>\n",
       "      <td>LVH</td>\n",
       "      <td>150</td>\n",
       "      <td>Y</td>\n",
       "      <td>1.6</td>\n",
       "      <td>Flat</td>\n",
       "      <td>1</td>\n",
       "    </tr>\n",
       "    <tr>\n",
       "      <th>880</th>\n",
       "      <td>52</td>\n",
       "      <td>M</td>\n",
       "      <td>NAP</td>\n",
       "      <td>172</td>\n",
       "      <td>199.0</td>\n",
       "      <td>1</td>\n",
       "      <td>Normal</td>\n",
       "      <td>162</td>\n",
       "      <td>N</td>\n",
       "      <td>0.5</td>\n",
       "      <td>Up</td>\n",
       "      <td>0</td>\n",
       "    </tr>\n",
       "    <tr>\n",
       "      <th>890</th>\n",
       "      <td>64</td>\n",
       "      <td>M</td>\n",
       "      <td>TA</td>\n",
       "      <td>170</td>\n",
       "      <td>227.0</td>\n",
       "      <td>0</td>\n",
       "      <td>LVH</td>\n",
       "      <td>155</td>\n",
       "      <td>N</td>\n",
       "      <td>0.6</td>\n",
       "      <td>Flat</td>\n",
       "      <td>0</td>\n",
       "    </tr>\n",
       "    <tr>\n",
       "      <th>901</th>\n",
       "      <td>58</td>\n",
       "      <td>F</td>\n",
       "      <td>ASY</td>\n",
       "      <td>170</td>\n",
       "      <td>225.0</td>\n",
       "      <td>1</td>\n",
       "      <td>LVH</td>\n",
       "      <td>146</td>\n",
       "      <td>Y</td>\n",
       "      <td>2.8</td>\n",
       "      <td>Flat</td>\n",
       "      <td>1</td>\n",
       "    </tr>\n",
       "  </tbody>\n",
       "</table>\n",
       "</div>"
      ],
      "text/plain": [
       "     Age Sex ChestPainType  RestingBP  Cholesterol  FastingBS RestingECG  \\\n",
       "86    65   M           ASY        170        263.0          1     Normal   \n",
       "109   39   M           ATA        190        241.0          0     Normal   \n",
       "123   58   F           ATA        180        393.0          0     Normal   \n",
       "132   56   M           ASY        170        388.0          0         ST   \n",
       "189   53   M           ASY        180        285.0          0         ST   \n",
       "190   46   M           ASY        180        280.0          0         ST   \n",
       "191   50   M           ATA        170        209.0          0         ST   \n",
       "215   30   F            TA        170        237.0          0         ST   \n",
       "241   54   M           ASY        200        198.0          0     Normal   \n",
       "274   45   F           ATA        180        295.0          0     Normal   \n",
       "275   59   M           NAP        180        213.0          0     Normal   \n",
       "277   52   M           ASY        170        223.0          0     Normal   \n",
       "278   57   F           ASY        180        347.0          0         ST   \n",
       "432   63   M           ASY        170        177.0          0     Normal   \n",
       "491   75   M           ASY        170        203.0          1         ST   \n",
       "543   70   M           ASY        170        192.0          0         ST   \n",
       "550   55   M           ASY        172        260.0          0     Normal   \n",
       "585   57   M           ATA        180        285.0          1         ST   \n",
       "592   61   M           ASY        190        287.0          1        LVH   \n",
       "648   59   M           ASY        170        326.0          0        LVH   \n",
       "673   59   F           ASY        174        249.0          0     Normal   \n",
       "702   59   M            TA        178        270.0          0        LVH   \n",
       "725   55   F           ASY        180        327.0          0         ST   \n",
       "732   56   F           ASY        200        288.0          1        LVH   \n",
       "759   54   M           ATA        192        283.0          0        LVH   \n",
       "774   66   F           ASY        178        228.0          1     Normal   \n",
       "780   64   F           ASY        180        325.0          0     Normal   \n",
       "825   59   M            TA        170        288.0          0        LVH   \n",
       "855   68   M           NAP        180        274.0          1        LVH   \n",
       "880   52   M           NAP        172        199.0          1     Normal   \n",
       "890   64   M            TA        170        227.0          0        LVH   \n",
       "901   58   F           ASY        170        225.0          1        LVH   \n",
       "\n",
       "     MaxHR ExerciseAngina  Oldpeak ST_Slope  HeartDisease  \n",
       "86     112              Y      2.0     Flat             1  \n",
       "109    106              N      0.0       Up             0  \n",
       "123    110              Y      1.0     Flat             1  \n",
       "132    122              Y      2.0     Flat             1  \n",
       "189    120              Y      1.5     Flat             1  \n",
       "190    120              N      0.0       Up             0  \n",
       "191    116              N      0.0       Up             0  \n",
       "215    170              N      0.0       Up             0  \n",
       "241    142              Y      2.0     Flat             1  \n",
       "274    180              N      0.0       Up             0  \n",
       "275    100              N      0.0       Up             0  \n",
       "277    126              Y      1.5     Flat             1  \n",
       "278    126              Y      0.8     Flat             0  \n",
       "432     84              Y      2.5     Down             1  \n",
       "491    108              N      0.0     Flat             1  \n",
       "543    129              Y      3.0     Down             1  \n",
       "550     73              N      2.0     Flat             1  \n",
       "585    120              N      0.8     Flat             1  \n",
       "592    150              Y      2.0     Down             1  \n",
       "648    140              Y      3.4     Down             1  \n",
       "673    143              Y      0.0     Flat             1  \n",
       "702    145              N      4.2     Down             0  \n",
       "725    117              Y      3.4     Flat             1  \n",
       "732    133              Y      4.0     Down             1  \n",
       "759    195              N      0.0       Up             1  \n",
       "774    165              Y      1.0     Flat             1  \n",
       "780    154              Y      0.0       Up             0  \n",
       "825    159              N      0.2     Flat             1  \n",
       "855    150              Y      1.6     Flat             1  \n",
       "880    162              N      0.5       Up             0  \n",
       "890    155              N      0.6     Flat             0  \n",
       "901    146              Y      2.8     Flat             1  "
      ]
     },
     "execution_count": 15,
     "metadata": {},
     "output_type": "execute_result"
    }
   ],
   "source": [
    "not_df_out_rbp, df_out_rbp = detect_outliers('RestingBP')\n",
    "print(f'Outliers in resting blood pressure represent the {round((df_out_rbp.shape[0]*100)/df.shape[0], 2)}% of our dataset')\n",
    "df_out_rbp"
   ]
  },
  {
   "attachments": {},
   "cell_type": "markdown",
   "id": "479f39c2",
   "metadata": {
    "papermill": {
     "duration": 0.022868,
     "end_time": "2023-03-19T10:57:26.121362",
     "exception": false,
     "start_time": "2023-03-19T10:57:26.098494",
     "status": "completed"
    },
    "tags": []
   },
   "source": [
    "In this case the outliers in resting blood pressure represent the 4.58% of total cases, we can delete them."
   ]
  },
  {
   "cell_type": "code",
   "execution_count": 16,
   "id": "0e08ff1e",
   "metadata": {
    "execution": {
     "iopub.execute_input": "2023-03-19T10:57:26.168909Z",
     "iopub.status.busy": "2023-03-19T10:57:26.168520Z",
     "iopub.status.idle": "2023-03-19T10:57:26.561056Z",
     "shell.execute_reply": "2023-03-19T10:57:26.559665Z"
    },
    "papermill": {
     "duration": 0.418703,
     "end_time": "2023-03-19T10:57:26.563099",
     "exception": false,
     "start_time": "2023-03-19T10:57:26.144396",
     "status": "completed"
    },
    "tags": []
   },
   "outputs": [
    {
     "data": {
      "text/plain": [
       "<AxesSubplot:xlabel='RestingBP', ylabel='Count'>"
      ]
     },
     "execution_count": 16,
     "metadata": {},
     "output_type": "execute_result"
    },
    {
     "data": {
      "image/png": "[encoded data removed]",
      "text/plain": [
       "<Figure size 1440x720 with 1 Axes>"
      ]
     },
     "metadata": {},
     "output_type": "display_data"
    }
   ],
   "source": [
    "df = delete_outliers(df_out_rbp)\n",
    "plt.figure(figsize=(20,10))\n",
    "sns.histplot(data=df, x='RestingBP', kde=True, palette=color, hue='HeartDisease')"
   ]
  },
  {
   "attachments": {},
   "cell_type": "markdown",
   "id": "1d97c87d",
   "metadata": {
    "papermill": {
     "duration": 0.029249,
     "end_time": "2023-03-19T10:57:33.585222",
     "exception": false,
     "start_time": "2023-03-19T10:57:33.555973",
     "status": "completed"
    },
    "tags": []
   },
   "source": [
    "# Features encoding"
   ]
  },
  {
   "cell_type": "code",
   "execution_count": 17,
   "id": "f9d9a175",
   "metadata": {
    "execution": {
     "iopub.execute_input": "2023-03-19T10:57:33.705797Z",
     "iopub.status.busy": "2023-03-19T10:57:33.704803Z",
     "iopub.status.idle": "2023-03-19T10:57:33.730547Z",
     "shell.execute_reply": "2023-03-19T10:57:33.729455Z"
    },
    "papermill": {
     "duration": 0.058921,
     "end_time": "2023-03-19T10:57:33.732622",
     "exception": false,
     "start_time": "2023-03-19T10:57:33.673701",
     "status": "completed"
    },
    "tags": []
   },
   "outputs": [
    {
     "data": {
      "text/html": [
       "<div>\n",
       "<style scoped>\n",
       "    .dataframe tbody tr th:only-of-type {\n",
       "        vertical-align: middle;\n",
       "    }\n",
       "\n",
       "    .dataframe tbody tr th {\n",
       "        vertical-align: top;\n",
       "    }\n",
       "\n",
       "    .dataframe thead th {\n",
       "        text-align: right;\n",
       "    }\n",
       "</style>\n",
       "<table border=\"1\" class=\"dataframe\">\n",
       "  <thead>\n",
       "    <tr style=\"text-align: right;\">\n",
       "      <th></th>\n",
       "      <th>Age</th>\n",
       "      <th>Sex</th>\n",
       "      <th>ChestPainType</th>\n",
       "      <th>RestingBP</th>\n",
       "      <th>Cholesterol</th>\n",
       "      <th>FastingBS</th>\n",
       "      <th>RestingECG</th>\n",
       "      <th>MaxHR</th>\n",
       "      <th>ExerciseAngina</th>\n",
       "      <th>Oldpeak</th>\n",
       "      <th>ST_Slope</th>\n",
       "      <th>HeartDisease</th>\n",
       "    </tr>\n",
       "  </thead>\n",
       "  <tbody>\n",
       "    <tr>\n",
       "      <th>0</th>\n",
       "      <td>40</td>\n",
       "      <td>1</td>\n",
       "      <td>ATA</td>\n",
       "      <td>140</td>\n",
       "      <td>289.0</td>\n",
       "      <td>0</td>\n",
       "      <td>Normal</td>\n",
       "      <td>172</td>\n",
       "      <td>0</td>\n",
       "      <td>0.0</td>\n",
       "      <td>Up</td>\n",
       "      <td>0</td>\n",
       "    </tr>\n",
       "    <tr>\n",
       "      <th>1</th>\n",
       "      <td>49</td>\n",
       "      <td>0</td>\n",
       "      <td>NAP</td>\n",
       "      <td>160</td>\n",
       "      <td>180.0</td>\n",
       "      <td>0</td>\n",
       "      <td>Normal</td>\n",
       "      <td>156</td>\n",
       "      <td>0</td>\n",
       "      <td>1.0</td>\n",
       "      <td>Flat</td>\n",
       "      <td>1</td>\n",
       "    </tr>\n",
       "    <tr>\n",
       "      <th>2</th>\n",
       "      <td>37</td>\n",
       "      <td>1</td>\n",
       "      <td>ATA</td>\n",
       "      <td>130</td>\n",
       "      <td>283.0</td>\n",
       "      <td>0</td>\n",
       "      <td>ST</td>\n",
       "      <td>98</td>\n",
       "      <td>0</td>\n",
       "      <td>0.0</td>\n",
       "      <td>Up</td>\n",
       "      <td>0</td>\n",
       "    </tr>\n",
       "    <tr>\n",
       "      <th>3</th>\n",
       "      <td>48</td>\n",
       "      <td>0</td>\n",
       "      <td>ASY</td>\n",
       "      <td>138</td>\n",
       "      <td>214.0</td>\n",
       "      <td>0</td>\n",
       "      <td>Normal</td>\n",
       "      <td>108</td>\n",
       "      <td>1</td>\n",
       "      <td>1.5</td>\n",
       "      <td>Flat</td>\n",
       "      <td>1</td>\n",
       "    </tr>\n",
       "    <tr>\n",
       "      <th>4</th>\n",
       "      <td>54</td>\n",
       "      <td>1</td>\n",
       "      <td>NAP</td>\n",
       "      <td>150</td>\n",
       "      <td>195.0</td>\n",
       "      <td>0</td>\n",
       "      <td>Normal</td>\n",
       "      <td>122</td>\n",
       "      <td>0</td>\n",
       "      <td>0.0</td>\n",
       "      <td>Up</td>\n",
       "      <td>0</td>\n",
       "    </tr>\n",
       "    <tr>\n",
       "      <th>...</th>\n",
       "      <td>...</td>\n",
       "      <td>...</td>\n",
       "      <td>...</td>\n",
       "      <td>...</td>\n",
       "      <td>...</td>\n",
       "      <td>...</td>\n",
       "      <td>...</td>\n",
       "      <td>...</td>\n",
       "      <td>...</td>\n",
       "      <td>...</td>\n",
       "      <td>...</td>\n",
       "      <td>...</td>\n",
       "    </tr>\n",
       "    <tr>\n",
       "      <th>913</th>\n",
       "      <td>45</td>\n",
       "      <td>1</td>\n",
       "      <td>TA</td>\n",
       "      <td>110</td>\n",
       "      <td>264.0</td>\n",
       "      <td>0</td>\n",
       "      <td>Normal</td>\n",
       "      <td>132</td>\n",
       "      <td>0</td>\n",
       "      <td>1.2</td>\n",
       "      <td>Flat</td>\n",
       "      <td>1</td>\n",
       "    </tr>\n",
       "    <tr>\n",
       "      <th>914</th>\n",
       "      <td>68</td>\n",
       "      <td>1</td>\n",
       "      <td>ASY</td>\n",
       "      <td>144</td>\n",
       "      <td>193.0</td>\n",
       "      <td>1</td>\n",
       "      <td>Normal</td>\n",
       "      <td>141</td>\n",
       "      <td>0</td>\n",
       "      <td>3.4</td>\n",
       "      <td>Flat</td>\n",
       "      <td>1</td>\n",
       "    </tr>\n",
       "    <tr>\n",
       "      <th>915</th>\n",
       "      <td>57</td>\n",
       "      <td>1</td>\n",
       "      <td>ASY</td>\n",
       "      <td>130</td>\n",
       "      <td>131.0</td>\n",
       "      <td>0</td>\n",
       "      <td>Normal</td>\n",
       "      <td>115</td>\n",
       "      <td>1</td>\n",
       "      <td>1.2</td>\n",
       "      <td>Flat</td>\n",
       "      <td>1</td>\n",
       "    </tr>\n",
       "    <tr>\n",
       "      <th>916</th>\n",
       "      <td>57</td>\n",
       "      <td>0</td>\n",
       "      <td>ATA</td>\n",
       "      <td>130</td>\n",
       "      <td>236.0</td>\n",
       "      <td>0</td>\n",
       "      <td>LVH</td>\n",
       "      <td>174</td>\n",
       "      <td>0</td>\n",
       "      <td>0.0</td>\n",
       "      <td>Flat</td>\n",
       "      <td>1</td>\n",
       "    </tr>\n",
       "    <tr>\n",
       "      <th>917</th>\n",
       "      <td>38</td>\n",
       "      <td>1</td>\n",
       "      <td>NAP</td>\n",
       "      <td>138</td>\n",
       "      <td>175.0</td>\n",
       "      <td>0</td>\n",
       "      <td>Normal</td>\n",
       "      <td>173</td>\n",
       "      <td>0</td>\n",
       "      <td>0.0</td>\n",
       "      <td>Up</td>\n",
       "      <td>0</td>\n",
       "    </tr>\n",
       "  </tbody>\n",
       "</table>\n",
       "<p>714 rows × 12 columns</p>\n",
       "</div>"
      ],
      "text/plain": [
       "     Age  Sex ChestPainType  RestingBP  Cholesterol  FastingBS RestingECG  \\\n",
       "0     40    1           ATA        140        289.0          0     Normal   \n",
       "1     49    0           NAP        160        180.0          0     Normal   \n",
       "2     37    1           ATA        130        283.0          0         ST   \n",
       "3     48    0           ASY        138        214.0          0     Normal   \n",
       "4     54    1           NAP        150        195.0          0     Normal   \n",
       "..   ...  ...           ...        ...          ...        ...        ...   \n",
       "913   45    1            TA        110        264.0          0     Normal   \n",
       "914   68    1           ASY        144        193.0          1     Normal   \n",
       "915   57    1           ASY        130        131.0          0     Normal   \n",
       "916   57    0           ATA        130        236.0          0        LVH   \n",
       "917   38    1           NAP        138        175.0          0     Normal   \n",
       "\n",
       "     MaxHR  ExerciseAngina  Oldpeak ST_Slope  HeartDisease  \n",
       "0      172               0      0.0       Up             0  \n",
       "1      156               0      1.0     Flat             1  \n",
       "2       98               0      0.0       Up             0  \n",
       "3      108               1      1.5     Flat             1  \n",
       "4      122               0      0.0       Up             0  \n",
       "..     ...             ...      ...      ...           ...  \n",
       "913    132               0      1.2     Flat             1  \n",
       "914    141               0      3.4     Flat             1  \n",
       "915    115               1      1.2     Flat             1  \n",
       "916    174               0      0.0     Flat             1  \n",
       "917    173               0      0.0       Up             0  \n",
       "\n",
       "[714 rows x 12 columns]"
      ]
     },
     "execution_count": 17,
     "metadata": {},
     "output_type": "execute_result"
    }
   ],
   "source": [
    "#Binary features enconding\n",
    "df[\"Sex\"] = df[\"Sex\"].map({'M':1, 'F':0})\n",
    "df[\"ExerciseAngina\"] = df[\"ExerciseAngina\"].map({'N':0, 'Y':1})\n",
    "df"
   ]
  },
  {
   "attachments": {},
   "cell_type": "markdown",
   "id": "a5d0f13c",
   "metadata": {
    "papermill": {
     "duration": 0.029545,
     "end_time": "2023-03-19T10:57:33.792402",
     "exception": false,
     "start_time": "2023-03-19T10:57:33.762857",
     "status": "completed"
    },
    "tags": []
   },
   "source": [
    "# Data Binning"
   ]
  },
  {
   "cell_type": "code",
   "execution_count": 18,
   "id": "8fcf8a19",
   "metadata": {
    "execution": {
     "iopub.execute_input": "2023-03-19T10:57:33.853893Z",
     "iopub.status.busy": "2023-03-19T10:57:33.853515Z",
     "iopub.status.idle": "2023-03-19T10:57:33.880701Z",
     "shell.execute_reply": "2023-03-19T10:57:33.879803Z"
    },
    "papermill": {
     "duration": 0.06016,
     "end_time": "2023-03-19T10:57:33.882520",
     "exception": false,
     "start_time": "2023-03-19T10:57:33.822360",
     "status": "completed"
    },
    "tags": []
   },
   "outputs": [
    {
     "data": {
      "text/html": [
       "<div>\n",
       "<style scoped>\n",
       "    .dataframe tbody tr th:only-of-type {\n",
       "        vertical-align: middle;\n",
       "    }\n",
       "\n",
       "    .dataframe tbody tr th {\n",
       "        vertical-align: top;\n",
       "    }\n",
       "\n",
       "    .dataframe thead th {\n",
       "        text-align: right;\n",
       "    }\n",
       "</style>\n",
       "<table border=\"1\" class=\"dataframe\">\n",
       "  <thead>\n",
       "    <tr style=\"text-align: right;\">\n",
       "      <th></th>\n",
       "      <th>Age</th>\n",
       "      <th>Sex</th>\n",
       "      <th>ChestPainType</th>\n",
       "      <th>RestingBP</th>\n",
       "      <th>Cholesterol</th>\n",
       "      <th>FastingBS</th>\n",
       "      <th>RestingECG</th>\n",
       "      <th>MaxHR</th>\n",
       "      <th>ExerciseAngina</th>\n",
       "      <th>Oldpeak</th>\n",
       "      <th>ST_Slope</th>\n",
       "      <th>HeartDisease</th>\n",
       "    </tr>\n",
       "  </thead>\n",
       "  <tbody>\n",
       "    <tr>\n",
       "      <th>0</th>\n",
       "      <td>1</td>\n",
       "      <td>1</td>\n",
       "      <td>ATA</td>\n",
       "      <td>3</td>\n",
       "      <td>3</td>\n",
       "      <td>0</td>\n",
       "      <td>Normal</td>\n",
       "      <td>3</td>\n",
       "      <td>0</td>\n",
       "      <td>0</td>\n",
       "      <td>Up</td>\n",
       "      <td>0</td>\n",
       "    </tr>\n",
       "    <tr>\n",
       "      <th>1</th>\n",
       "      <td>2</td>\n",
       "      <td>0</td>\n",
       "      <td>NAP</td>\n",
       "      <td>4</td>\n",
       "      <td>1</td>\n",
       "      <td>0</td>\n",
       "      <td>Normal</td>\n",
       "      <td>3</td>\n",
       "      <td>0</td>\n",
       "      <td>0</td>\n",
       "      <td>Flat</td>\n",
       "      <td>1</td>\n",
       "    </tr>\n",
       "    <tr>\n",
       "      <th>2</th>\n",
       "      <td>0</td>\n",
       "      <td>1</td>\n",
       "      <td>ATA</td>\n",
       "      <td>2</td>\n",
       "      <td>3</td>\n",
       "      <td>0</td>\n",
       "      <td>ST</td>\n",
       "      <td>1</td>\n",
       "      <td>0</td>\n",
       "      <td>0</td>\n",
       "      <td>Up</td>\n",
       "      <td>0</td>\n",
       "    </tr>\n",
       "    <tr>\n",
       "      <th>3</th>\n",
       "      <td>2</td>\n",
       "      <td>0</td>\n",
       "      <td>ASY</td>\n",
       "      <td>3</td>\n",
       "      <td>2</td>\n",
       "      <td>0</td>\n",
       "      <td>Normal</td>\n",
       "      <td>1</td>\n",
       "      <td>1</td>\n",
       "      <td>1</td>\n",
       "      <td>Flat</td>\n",
       "      <td>1</td>\n",
       "    </tr>\n",
       "    <tr>\n",
       "      <th>4</th>\n",
       "      <td>2</td>\n",
       "      <td>1</td>\n",
       "      <td>NAP</td>\n",
       "      <td>3</td>\n",
       "      <td>1</td>\n",
       "      <td>0</td>\n",
       "      <td>Normal</td>\n",
       "      <td>1</td>\n",
       "      <td>0</td>\n",
       "      <td>0</td>\n",
       "      <td>Up</td>\n",
       "      <td>0</td>\n",
       "    </tr>\n",
       "    <tr>\n",
       "      <th>...</th>\n",
       "      <td>...</td>\n",
       "      <td>...</td>\n",
       "      <td>...</td>\n",
       "      <td>...</td>\n",
       "      <td>...</td>\n",
       "      <td>...</td>\n",
       "      <td>...</td>\n",
       "      <td>...</td>\n",
       "      <td>...</td>\n",
       "      <td>...</td>\n",
       "      <td>...</td>\n",
       "      <td>...</td>\n",
       "    </tr>\n",
       "    <tr>\n",
       "      <th>913</th>\n",
       "      <td>1</td>\n",
       "      <td>1</td>\n",
       "      <td>TA</td>\n",
       "      <td>1</td>\n",
       "      <td>2</td>\n",
       "      <td>0</td>\n",
       "      <td>Normal</td>\n",
       "      <td>2</td>\n",
       "      <td>0</td>\n",
       "      <td>1</td>\n",
       "      <td>Flat</td>\n",
       "      <td>1</td>\n",
       "    </tr>\n",
       "    <tr>\n",
       "      <th>914</th>\n",
       "      <td>4</td>\n",
       "      <td>1</td>\n",
       "      <td>ASY</td>\n",
       "      <td>3</td>\n",
       "      <td>1</td>\n",
       "      <td>1</td>\n",
       "      <td>Normal</td>\n",
       "      <td>2</td>\n",
       "      <td>0</td>\n",
       "      <td>2</td>\n",
       "      <td>Flat</td>\n",
       "      <td>1</td>\n",
       "    </tr>\n",
       "    <tr>\n",
       "      <th>915</th>\n",
       "      <td>2</td>\n",
       "      <td>1</td>\n",
       "      <td>ASY</td>\n",
       "      <td>2</td>\n",
       "      <td>0</td>\n",
       "      <td>0</td>\n",
       "      <td>Normal</td>\n",
       "      <td>1</td>\n",
       "      <td>1</td>\n",
       "      <td>1</td>\n",
       "      <td>Flat</td>\n",
       "      <td>1</td>\n",
       "    </tr>\n",
       "    <tr>\n",
       "      <th>916</th>\n",
       "      <td>2</td>\n",
       "      <td>0</td>\n",
       "      <td>ATA</td>\n",
       "      <td>2</td>\n",
       "      <td>2</td>\n",
       "      <td>0</td>\n",
       "      <td>LVH</td>\n",
       "      <td>3</td>\n",
       "      <td>0</td>\n",
       "      <td>0</td>\n",
       "      <td>Flat</td>\n",
       "      <td>1</td>\n",
       "    </tr>\n",
       "    <tr>\n",
       "      <th>917</th>\n",
       "      <td>1</td>\n",
       "      <td>1</td>\n",
       "      <td>NAP</td>\n",
       "      <td>3</td>\n",
       "      <td>1</td>\n",
       "      <td>0</td>\n",
       "      <td>Normal</td>\n",
       "      <td>3</td>\n",
       "      <td>0</td>\n",
       "      <td>0</td>\n",
       "      <td>Up</td>\n",
       "      <td>0</td>\n",
       "    </tr>\n",
       "  </tbody>\n",
       "</table>\n",
       "<p>714 rows × 12 columns</p>\n",
       "</div>"
      ],
      "text/plain": [
       "     Age  Sex ChestPainType  RestingBP  Cholesterol  FastingBS RestingECG  \\\n",
       "0      1    1           ATA          3            3          0     Normal   \n",
       "1      2    0           NAP          4            1          0     Normal   \n",
       "2      0    1           ATA          2            3          0         ST   \n",
       "3      2    0           ASY          3            2          0     Normal   \n",
       "4      2    1           NAP          3            1          0     Normal   \n",
       "..   ...  ...           ...        ...          ...        ...        ...   \n",
       "913    1    1            TA          1            2          0     Normal   \n",
       "914    4    1           ASY          3            1          1     Normal   \n",
       "915    2    1           ASY          2            0          0     Normal   \n",
       "916    2    0           ATA          2            2          0        LVH   \n",
       "917    1    1           NAP          3            1          0     Normal   \n",
       "\n",
       "     MaxHR  ExerciseAngina  Oldpeak ST_Slope  HeartDisease  \n",
       "0        3               0        0       Up             0  \n",
       "1        3               0        0     Flat             1  \n",
       "2        1               0        0       Up             0  \n",
       "3        1               1        1     Flat             1  \n",
       "4        1               0        0       Up             0  \n",
       "..     ...             ...      ...      ...           ...  \n",
       "913      2               0        1     Flat             1  \n",
       "914      2               0        2     Flat             1  \n",
       "915      1               1        1     Flat             1  \n",
       "916      3               0        0     Flat             1  \n",
       "917      3               0        0       Up             0  \n",
       "\n",
       "[714 rows x 12 columns]"
      ]
     },
     "execution_count": 18,
     "metadata": {},
     "output_type": "execute_result"
    }
   ],
   "source": [
    "df_bin = df.copy()\n",
    "for feature in continuos_f:\n",
    "    bins = 5\n",
    "    df_bin[feature] = pd.cut(df[feature], bins=bins, labels=range(bins)).astype(np.int64)\n",
    "df_bin"
   ]
  },
  {
   "cell_type": "code",
   "execution_count": 19,
   "id": "f2a751a1",
   "metadata": {
    "execution": {
     "iopub.execute_input": "2023-03-19T10:57:34.007144Z",
     "iopub.status.busy": "2023-03-19T10:57:34.006832Z",
     "iopub.status.idle": "2023-03-19T10:57:34.033943Z",
     "shell.execute_reply": "2023-03-19T10:57:34.032835Z"
    },
    "papermill": {
     "duration": 0.060511,
     "end_time": "2023-03-19T10:57:34.036125",
     "exception": false,
     "start_time": "2023-03-19T10:57:33.975614",
     "status": "completed"
    },
    "tags": []
   },
   "outputs": [
    {
     "data": {
      "text/html": [
       "<div>\n",
       "<style scoped>\n",
       "    .dataframe tbody tr th:only-of-type {\n",
       "        vertical-align: middle;\n",
       "    }\n",
       "\n",
       "    .dataframe tbody tr th {\n",
       "        vertical-align: top;\n",
       "    }\n",
       "\n",
       "    .dataframe thead th {\n",
       "        text-align: right;\n",
       "    }\n",
       "</style>\n",
       "<table border=\"1\" class=\"dataframe\">\n",
       "  <thead>\n",
       "    <tr style=\"text-align: right;\">\n",
       "      <th></th>\n",
       "      <th>Sex</th>\n",
       "      <th>FastingBS</th>\n",
       "      <th>ExerciseAngina</th>\n",
       "      <th>HeartDisease</th>\n",
       "      <th>ChestPainType_ASY</th>\n",
       "      <th>ChestPainType_ATA</th>\n",
       "      <th>ChestPainType_NAP</th>\n",
       "      <th>ChestPainType_TA</th>\n",
       "      <th>RestingECG_LVH</th>\n",
       "      <th>RestingECG_Normal</th>\n",
       "      <th>...</th>\n",
       "      <th>MaxHR_0</th>\n",
       "      <th>MaxHR_1</th>\n",
       "      <th>MaxHR_2</th>\n",
       "      <th>MaxHR_3</th>\n",
       "      <th>MaxHR_4</th>\n",
       "      <th>Oldpeak_0</th>\n",
       "      <th>Oldpeak_1</th>\n",
       "      <th>Oldpeak_2</th>\n",
       "      <th>Oldpeak_3</th>\n",
       "      <th>Oldpeak_4</th>\n",
       "    </tr>\n",
       "  </thead>\n",
       "  <tbody>\n",
       "    <tr>\n",
       "      <th>0</th>\n",
       "      <td>1</td>\n",
       "      <td>0</td>\n",
       "      <td>0</td>\n",
       "      <td>0</td>\n",
       "      <td>0</td>\n",
       "      <td>1</td>\n",
       "      <td>0</td>\n",
       "      <td>0</td>\n",
       "      <td>0</td>\n",
       "      <td>1</td>\n",
       "      <td>...</td>\n",
       "      <td>0</td>\n",
       "      <td>0</td>\n",
       "      <td>0</td>\n",
       "      <td>1</td>\n",
       "      <td>0</td>\n",
       "      <td>1</td>\n",
       "      <td>0</td>\n",
       "      <td>0</td>\n",
       "      <td>0</td>\n",
       "      <td>0</td>\n",
       "    </tr>\n",
       "    <tr>\n",
       "      <th>1</th>\n",
       "      <td>0</td>\n",
       "      <td>0</td>\n",
       "      <td>0</td>\n",
       "      <td>1</td>\n",
       "      <td>0</td>\n",
       "      <td>0</td>\n",
       "      <td>1</td>\n",
       "      <td>0</td>\n",
       "      <td>0</td>\n",
       "      <td>1</td>\n",
       "      <td>...</td>\n",
       "      <td>0</td>\n",
       "      <td>0</td>\n",
       "      <td>0</td>\n",
       "      <td>1</td>\n",
       "      <td>0</td>\n",
       "      <td>1</td>\n",
       "      <td>0</td>\n",
       "      <td>0</td>\n",
       "      <td>0</td>\n",
       "      <td>0</td>\n",
       "    </tr>\n",
       "    <tr>\n",
       "      <th>2</th>\n",
       "      <td>1</td>\n",
       "      <td>0</td>\n",
       "      <td>0</td>\n",
       "      <td>0</td>\n",
       "      <td>0</td>\n",
       "      <td>1</td>\n",
       "      <td>0</td>\n",
       "      <td>0</td>\n",
       "      <td>0</td>\n",
       "      <td>0</td>\n",
       "      <td>...</td>\n",
       "      <td>0</td>\n",
       "      <td>1</td>\n",
       "      <td>0</td>\n",
       "      <td>0</td>\n",
       "      <td>0</td>\n",
       "      <td>1</td>\n",
       "      <td>0</td>\n",
       "      <td>0</td>\n",
       "      <td>0</td>\n",
       "      <td>0</td>\n",
       "    </tr>\n",
       "    <tr>\n",
       "      <th>3</th>\n",
       "      <td>0</td>\n",
       "      <td>0</td>\n",
       "      <td>1</td>\n",
       "      <td>1</td>\n",
       "      <td>1</td>\n",
       "      <td>0</td>\n",
       "      <td>0</td>\n",
       "      <td>0</td>\n",
       "      <td>0</td>\n",
       "      <td>1</td>\n",
       "      <td>...</td>\n",
       "      <td>0</td>\n",
       "      <td>1</td>\n",
       "      <td>0</td>\n",
       "      <td>0</td>\n",
       "      <td>0</td>\n",
       "      <td>0</td>\n",
       "      <td>1</td>\n",
       "      <td>0</td>\n",
       "      <td>0</td>\n",
       "      <td>0</td>\n",
       "    </tr>\n",
       "    <tr>\n",
       "      <th>4</th>\n",
       "      <td>1</td>\n",
       "      <td>0</td>\n",
       "      <td>0</td>\n",
       "      <td>0</td>\n",
       "      <td>0</td>\n",
       "      <td>0</td>\n",
       "      <td>1</td>\n",
       "      <td>0</td>\n",
       "      <td>0</td>\n",
       "      <td>1</td>\n",
       "      <td>...</td>\n",
       "      <td>0</td>\n",
       "      <td>1</td>\n",
       "      <td>0</td>\n",
       "      <td>0</td>\n",
       "      <td>0</td>\n",
       "      <td>1</td>\n",
       "      <td>0</td>\n",
       "      <td>0</td>\n",
       "      <td>0</td>\n",
       "      <td>0</td>\n",
       "    </tr>\n",
       "    <tr>\n",
       "      <th>...</th>\n",
       "      <td>...</td>\n",
       "      <td>...</td>\n",
       "      <td>...</td>\n",
       "      <td>...</td>\n",
       "      <td>...</td>\n",
       "      <td>...</td>\n",
       "      <td>...</td>\n",
       "      <td>...</td>\n",
       "      <td>...</td>\n",
       "      <td>...</td>\n",
       "      <td>...</td>\n",
       "      <td>...</td>\n",
       "      <td>...</td>\n",
       "      <td>...</td>\n",
       "      <td>...</td>\n",
       "      <td>...</td>\n",
       "      <td>...</td>\n",
       "      <td>...</td>\n",
       "      <td>...</td>\n",
       "      <td>...</td>\n",
       "      <td>...</td>\n",
       "    </tr>\n",
       "    <tr>\n",
       "      <th>913</th>\n",
       "      <td>1</td>\n",
       "      <td>0</td>\n",
       "      <td>0</td>\n",
       "      <td>1</td>\n",
       "      <td>0</td>\n",
       "      <td>0</td>\n",
       "      <td>0</td>\n",
       "      <td>1</td>\n",
       "      <td>0</td>\n",
       "      <td>1</td>\n",
       "      <td>...</td>\n",
       "      <td>0</td>\n",
       "      <td>0</td>\n",
       "      <td>1</td>\n",
       "      <td>0</td>\n",
       "      <td>0</td>\n",
       "      <td>0</td>\n",
       "      <td>1</td>\n",
       "      <td>0</td>\n",
       "      <td>0</td>\n",
       "      <td>0</td>\n",
       "    </tr>\n",
       "    <tr>\n",
       "      <th>914</th>\n",
       "      <td>1</td>\n",
       "      <td>1</td>\n",
       "      <td>0</td>\n",
       "      <td>1</td>\n",
       "      <td>1</td>\n",
       "      <td>0</td>\n",
       "      <td>0</td>\n",
       "      <td>0</td>\n",
       "      <td>0</td>\n",
       "      <td>1</td>\n",
       "      <td>...</td>\n",
       "      <td>0</td>\n",
       "      <td>0</td>\n",
       "      <td>1</td>\n",
       "      <td>0</td>\n",
       "      <td>0</td>\n",
       "      <td>0</td>\n",
       "      <td>0</td>\n",
       "      <td>1</td>\n",
       "      <td>0</td>\n",
       "      <td>0</td>\n",
       "    </tr>\n",
       "    <tr>\n",
       "      <th>915</th>\n",
       "      <td>1</td>\n",
       "      <td>0</td>\n",
       "      <td>1</td>\n",
       "      <td>1</td>\n",
       "      <td>1</td>\n",
       "      <td>0</td>\n",
       "      <td>0</td>\n",
       "      <td>0</td>\n",
       "      <td>0</td>\n",
       "      <td>1</td>\n",
       "      <td>...</td>\n",
       "      <td>0</td>\n",
       "      <td>1</td>\n",
       "      <td>0</td>\n",
       "      <td>0</td>\n",
       "      <td>0</td>\n",
       "      <td>0</td>\n",
       "      <td>1</td>\n",
       "      <td>0</td>\n",
       "      <td>0</td>\n",
       "      <td>0</td>\n",
       "    </tr>\n",
       "    <tr>\n",
       "      <th>916</th>\n",
       "      <td>0</td>\n",
       "      <td>0</td>\n",
       "      <td>0</td>\n",
       "      <td>1</td>\n",
       "      <td>0</td>\n",
       "      <td>1</td>\n",
       "      <td>0</td>\n",
       "      <td>0</td>\n",
       "      <td>1</td>\n",
       "      <td>0</td>\n",
       "      <td>...</td>\n",
       "      <td>0</td>\n",
       "      <td>0</td>\n",
       "      <td>0</td>\n",
       "      <td>1</td>\n",
       "      <td>0</td>\n",
       "      <td>1</td>\n",
       "      <td>0</td>\n",
       "      <td>0</td>\n",
       "      <td>0</td>\n",
       "      <td>0</td>\n",
       "    </tr>\n",
       "    <tr>\n",
       "      <th>917</th>\n",
       "      <td>1</td>\n",
       "      <td>0</td>\n",
       "      <td>0</td>\n",
       "      <td>0</td>\n",
       "      <td>0</td>\n",
       "      <td>0</td>\n",
       "      <td>1</td>\n",
       "      <td>0</td>\n",
       "      <td>0</td>\n",
       "      <td>1</td>\n",
       "      <td>...</td>\n",
       "      <td>0</td>\n",
       "      <td>0</td>\n",
       "      <td>0</td>\n",
       "      <td>1</td>\n",
       "      <td>0</td>\n",
       "      <td>1</td>\n",
       "      <td>0</td>\n",
       "      <td>0</td>\n",
       "      <td>0</td>\n",
       "      <td>0</td>\n",
       "    </tr>\n",
       "  </tbody>\n",
       "</table>\n",
       "<p>714 rows × 39 columns</p>\n",
       "</div>"
      ],
      "text/plain": [
       "     Sex  FastingBS  ExerciseAngina  HeartDisease  ChestPainType_ASY  \\\n",
       "0      1          0               0             0                  0   \n",
       "1      0          0               0             1                  0   \n",
       "2      1          0               0             0                  0   \n",
       "3      0          0               1             1                  1   \n",
       "4      1          0               0             0                  0   \n",
       "..   ...        ...             ...           ...                ...   \n",
       "913    1          0               0             1                  0   \n",
       "914    1          1               0             1                  1   \n",
       "915    1          0               1             1                  1   \n",
       "916    0          0               0             1                  0   \n",
       "917    1          0               0             0                  0   \n",
       "\n",
       "     ChestPainType_ATA  ChestPainType_NAP  ChestPainType_TA  RestingECG_LVH  \\\n",
       "0                    1                  0                 0               0   \n",
       "1                    0                  1                 0               0   \n",
       "2                    1                  0                 0               0   \n",
       "3                    0                  0                 0               0   \n",
       "4                    0                  1                 0               0   \n",
       "..                 ...                ...               ...             ...   \n",
       "913                  0                  0                 1               0   \n",
       "914                  0                  0                 0               0   \n",
       "915                  0                  0                 0               0   \n",
       "916                  1                  0                 0               1   \n",
       "917                  0                  1                 0               0   \n",
       "\n",
       "     RestingECG_Normal  ...  MaxHR_0  MaxHR_1  MaxHR_2  MaxHR_3  MaxHR_4  \\\n",
       "0                    1  ...        0        0        0        1        0   \n",
       "1                    1  ...        0        0        0        1        0   \n",
       "2                    0  ...        0        1        0        0        0   \n",
       "3                    1  ...        0        1        0        0        0   \n",
       "4                    1  ...        0        1        0        0        0   \n",
       "..                 ...  ...      ...      ...      ...      ...      ...   \n",
       "913                  1  ...        0        0        1        0        0   \n",
       "914                  1  ...        0        0        1        0        0   \n",
       "915                  1  ...        0        1        0        0        0   \n",
       "916                  0  ...        0        0        0        1        0   \n",
       "917                  1  ...        0        0        0        1        0   \n",
       "\n",
       "     Oldpeak_0  Oldpeak_1  Oldpeak_2  Oldpeak_3  Oldpeak_4  \n",
       "0            1          0          0          0          0  \n",
       "1            1          0          0          0          0  \n",
       "2            1          0          0          0          0  \n",
       "3            0          1          0          0          0  \n",
       "4            1          0          0          0          0  \n",
       "..         ...        ...        ...        ...        ...  \n",
       "913          0          1          0          0          0  \n",
       "914          0          0          1          0          0  \n",
       "915          0          1          0          0          0  \n",
       "916          1          0          0          0          0  \n",
       "917          1          0          0          0          0  \n",
       "\n",
       "[714 rows x 39 columns]"
      ]
     },
     "execution_count": 19,
     "metadata": {},
     "output_type": "execute_result"
    }
   ],
   "source": [
    "# One-hot encoding\n",
    "df_dumm = pd.get_dummies(df_bin, columns = categorical_f+continuos_f)\n",
    "df_dumm"
   ]
  },
  {
   "attachments": {},
   "cell_type": "markdown",
   "id": "0f19e5be",
   "metadata": {
    "papermill": {
     "duration": 0.030688,
     "end_time": "2023-03-19T10:57:34.097983",
     "exception": false,
     "start_time": "2023-03-19T10:57:34.067295",
     "status": "completed"
    },
    "tags": []
   },
   "source": [
    "# Correlations between features and label:"
   ]
  },
  {
   "cell_type": "code",
   "execution_count": 20,
   "id": "68b5ebca",
   "metadata": {
    "execution": {
     "iopub.execute_input": "2023-03-19T10:57:34.160806Z",
     "iopub.status.busy": "2023-03-19T10:57:34.160451Z",
     "iopub.status.idle": "2023-03-19T10:57:34.930767Z",
     "shell.execute_reply": "2023-03-19T10:57:34.929564Z"
    },
    "papermill": {
     "duration": 0.804265,
     "end_time": "2023-03-19T10:57:34.932837",
     "exception": false,
     "start_time": "2023-03-19T10:57:34.128572",
     "status": "completed"
    },
    "tags": []
   },
   "outputs": [
    {
     "data": {
      "text/plain": [
       "<AxesSubplot:>"
      ]
     },
     "execution_count": 20,
     "metadata": {},
     "output_type": "execute_result"
    },
    {
     "data": {
      "image/png": "[encoded data removed]",
      "text/plain": [
       "<Figure size 1440x720 with 2 Axes>"
      ]
     },
     "metadata": {},
     "output_type": "display_data"
    }
   ],
   "source": [
    "corr=df.corr()\n",
    "plt.figure(figsize=(20,10)) \n",
    "sns.heatmap(corr,cmap=\"Blues\",annot=True)"
   ]
  },
  {
   "cell_type": "code",
   "execution_count": 21,
   "id": "cceeea4c",
   "metadata": {
    "execution": {
     "iopub.execute_input": "2023-03-19T10:57:34.999106Z",
     "iopub.status.busy": "2023-03-19T10:57:34.998708Z",
     "iopub.status.idle": "2023-03-19T10:57:35.010056Z",
     "shell.execute_reply": "2023-03-19T10:57:35.009043Z"
    },
    "papermill": {
     "duration": 0.04636,
     "end_time": "2023-03-19T10:57:35.011900",
     "exception": false,
     "start_time": "2023-03-19T10:57:34.965540",
     "status": "completed"
    },
    "tags": []
   },
   "outputs": [
    {
     "data": {
      "text/plain": [
       "HeartDisease         1.000000\n",
       "ST_Slope_Flat        0.595251\n",
       "ExerciseAngina       0.548979\n",
       "ChestPainType_ASY    0.523843\n",
       "Sex                  0.306487\n",
       "Oldpeak_1            0.297261\n",
       "Oldpeak_2            0.261787\n",
       "MaxHR_1              0.246226\n",
       "Age_3                0.234047\n",
       "FastingBS            0.148923\n",
       "Oldpeak_3            0.126768\n",
       "ST_Slope_Down        0.122051\n",
       "RestingBP_4          0.110814\n",
       "Cholesterol_3        0.108742\n",
       "RestingBP_3          0.108064\n",
       "MaxHR_0              0.102105\n",
       "RestingECG_ST        0.099583\n",
       "MaxHR_2              0.083049\n",
       "Age_4                0.077150\n",
       "Oldpeak_4            0.069091\n",
       "RestingECG_LVH       0.063949\n",
       "Cholesterol_0        0.010481\n",
       "Cholesterol_4        0.009348\n",
       "Cholesterol_2       -0.007519\n",
       "RestingBP_2         -0.030745\n",
       "Age_2               -0.037033\n",
       "ChestPainType_TA    -0.042540\n",
       "RestingBP_0         -0.074276\n",
       "Cholesterol_1       -0.093403\n",
       "RestingBP_1         -0.115718\n",
       "RestingECG_Normal   -0.130259\n",
       "Age_0               -0.135895\n",
       "Age_1               -0.166444\n",
       "MaxHR_4             -0.200989\n",
       "ChestPainType_NAP   -0.218480\n",
       "MaxHR_3             -0.230253\n",
       "ChestPainType_ATA   -0.384105\n",
       "Oldpeak_0           -0.457647\n",
       "ST_Slope_Up         -0.649161\n",
       "Name: HeartDisease, dtype: float64"
      ]
     },
     "execution_count": 21,
     "metadata": {},
     "output_type": "execute_result"
    }
   ],
   "source": [
    "df_corr = df_dumm.corr()\n",
    "df_corr[\"HeartDisease\"].sort_values(ascending=False)"
   ]
  },
  {
   "attachments": {},
   "cell_type": "markdown",
   "id": "4e09976f",
   "metadata": {
    "papermill": {
     "duration": 0.03302,
     "end_time": "2023-03-19T10:57:35.077406",
     "exception": false,
     "start_time": "2023-03-19T10:57:35.044386",
     "status": "completed"
    },
    "tags": []
   },
   "source": [
    "# Division into training and test sets"
   ]
  },
  {
   "cell_type": "code",
   "execution_count": 22,
   "id": "370f8d2c",
   "metadata": {
    "execution": {
     "iopub.execute_input": "2023-03-19T10:57:35.143494Z",
     "iopub.status.busy": "2023-03-19T10:57:35.142623Z",
     "iopub.status.idle": "2023-03-19T10:57:35.165902Z",
     "shell.execute_reply": "2023-03-19T10:57:35.164629Z"
    },
    "papermill": {
     "duration": 0.058098,
     "end_time": "2023-03-19T10:57:35.167703",
     "exception": false,
     "start_time": "2023-03-19T10:57:35.109605",
     "status": "completed"
    },
    "tags": []
   },
   "outputs": [
    {
     "data": {
      "text/html": [
       "<div>\n",
       "<style scoped>\n",
       "    .dataframe tbody tr th:only-of-type {\n",
       "        vertical-align: middle;\n",
       "    }\n",
       "\n",
       "    .dataframe tbody tr th {\n",
       "        vertical-align: top;\n",
       "    }\n",
       "\n",
       "    .dataframe thead th {\n",
       "        text-align: right;\n",
       "    }\n",
       "</style>\n",
       "<table border=\"1\" class=\"dataframe\">\n",
       "  <thead>\n",
       "    <tr style=\"text-align: right;\">\n",
       "      <th></th>\n",
       "      <th>Sex</th>\n",
       "      <th>FastingBS</th>\n",
       "      <th>ExerciseAngina</th>\n",
       "      <th>ChestPainType_ASY</th>\n",
       "      <th>ChestPainType_ATA</th>\n",
       "      <th>ChestPainType_NAP</th>\n",
       "      <th>ChestPainType_TA</th>\n",
       "      <th>RestingECG_LVH</th>\n",
       "      <th>RestingECG_Normal</th>\n",
       "      <th>RestingECG_ST</th>\n",
       "      <th>...</th>\n",
       "      <th>MaxHR_0</th>\n",
       "      <th>MaxHR_1</th>\n",
       "      <th>MaxHR_2</th>\n",
       "      <th>MaxHR_3</th>\n",
       "      <th>MaxHR_4</th>\n",
       "      <th>Oldpeak_0</th>\n",
       "      <th>Oldpeak_1</th>\n",
       "      <th>Oldpeak_2</th>\n",
       "      <th>Oldpeak_3</th>\n",
       "      <th>Oldpeak_4</th>\n",
       "    </tr>\n",
       "  </thead>\n",
       "  <tbody>\n",
       "    <tr>\n",
       "      <th>222</th>\n",
       "      <td>0</td>\n",
       "      <td>0</td>\n",
       "      <td>0</td>\n",
       "      <td>0</td>\n",
       "      <td>0</td>\n",
       "      <td>1</td>\n",
       "      <td>0</td>\n",
       "      <td>0</td>\n",
       "      <td>1</td>\n",
       "      <td>0</td>\n",
       "      <td>...</td>\n",
       "      <td>0</td>\n",
       "      <td>0</td>\n",
       "      <td>1</td>\n",
       "      <td>0</td>\n",
       "      <td>0</td>\n",
       "      <td>1</td>\n",
       "      <td>0</td>\n",
       "      <td>0</td>\n",
       "      <td>0</td>\n",
       "      <td>0</td>\n",
       "    </tr>\n",
       "    <tr>\n",
       "      <th>680</th>\n",
       "      <td>1</td>\n",
       "      <td>0</td>\n",
       "      <td>1</td>\n",
       "      <td>1</td>\n",
       "      <td>0</td>\n",
       "      <td>0</td>\n",
       "      <td>0</td>\n",
       "      <td>1</td>\n",
       "      <td>0</td>\n",
       "      <td>0</td>\n",
       "      <td>...</td>\n",
       "      <td>0</td>\n",
       "      <td>1</td>\n",
       "      <td>0</td>\n",
       "      <td>0</td>\n",
       "      <td>0</td>\n",
       "      <td>1</td>\n",
       "      <td>0</td>\n",
       "      <td>0</td>\n",
       "      <td>0</td>\n",
       "      <td>0</td>\n",
       "    </tr>\n",
       "    <tr>\n",
       "      <th>114</th>\n",
       "      <td>0</td>\n",
       "      <td>0</td>\n",
       "      <td>0</td>\n",
       "      <td>0</td>\n",
       "      <td>0</td>\n",
       "      <td>1</td>\n",
       "      <td>0</td>\n",
       "      <td>0</td>\n",
       "      <td>0</td>\n",
       "      <td>1</td>\n",
       "      <td>...</td>\n",
       "      <td>0</td>\n",
       "      <td>0</td>\n",
       "      <td>1</td>\n",
       "      <td>0</td>\n",
       "      <td>0</td>\n",
       "      <td>1</td>\n",
       "      <td>0</td>\n",
       "      <td>0</td>\n",
       "      <td>0</td>\n",
       "      <td>0</td>\n",
       "    </tr>\n",
       "    <tr>\n",
       "      <th>637</th>\n",
       "      <td>1</td>\n",
       "      <td>0</td>\n",
       "      <td>0</td>\n",
       "      <td>1</td>\n",
       "      <td>0</td>\n",
       "      <td>0</td>\n",
       "      <td>0</td>\n",
       "      <td>0</td>\n",
       "      <td>1</td>\n",
       "      <td>0</td>\n",
       "      <td>...</td>\n",
       "      <td>0</td>\n",
       "      <td>0</td>\n",
       "      <td>0</td>\n",
       "      <td>0</td>\n",
       "      <td>1</td>\n",
       "      <td>0</td>\n",
       "      <td>1</td>\n",
       "      <td>0</td>\n",
       "      <td>0</td>\n",
       "      <td>0</td>\n",
       "    </tr>\n",
       "    <tr>\n",
       "      <th>792</th>\n",
       "      <td>1</td>\n",
       "      <td>0</td>\n",
       "      <td>0</td>\n",
       "      <td>0</td>\n",
       "      <td>0</td>\n",
       "      <td>1</td>\n",
       "      <td>0</td>\n",
       "      <td>0</td>\n",
       "      <td>1</td>\n",
       "      <td>0</td>\n",
       "      <td>...</td>\n",
       "      <td>0</td>\n",
       "      <td>0</td>\n",
       "      <td>1</td>\n",
       "      <td>0</td>\n",
       "      <td>0</td>\n",
       "      <td>0</td>\n",
       "      <td>0</td>\n",
       "      <td>1</td>\n",
       "      <td>0</td>\n",
       "      <td>0</td>\n",
       "    </tr>\n",
       "    <tr>\n",
       "      <th>...</th>\n",
       "      <td>...</td>\n",
       "      <td>...</td>\n",
       "      <td>...</td>\n",
       "      <td>...</td>\n",
       "      <td>...</td>\n",
       "      <td>...</td>\n",
       "      <td>...</td>\n",
       "      <td>...</td>\n",
       "      <td>...</td>\n",
       "      <td>...</td>\n",
       "      <td>...</td>\n",
       "      <td>...</td>\n",
       "      <td>...</td>\n",
       "      <td>...</td>\n",
       "      <td>...</td>\n",
       "      <td>...</td>\n",
       "      <td>...</td>\n",
       "      <td>...</td>\n",
       "      <td>...</td>\n",
       "      <td>...</td>\n",
       "      <td>...</td>\n",
       "    </tr>\n",
       "    <tr>\n",
       "      <th>16</th>\n",
       "      <td>1</td>\n",
       "      <td>0</td>\n",
       "      <td>0</td>\n",
       "      <td>1</td>\n",
       "      <td>0</td>\n",
       "      <td>0</td>\n",
       "      <td>0</td>\n",
       "      <td>0</td>\n",
       "      <td>1</td>\n",
       "      <td>0</td>\n",
       "      <td>...</td>\n",
       "      <td>0</td>\n",
       "      <td>0</td>\n",
       "      <td>0</td>\n",
       "      <td>1</td>\n",
       "      <td>0</td>\n",
       "      <td>1</td>\n",
       "      <td>0</td>\n",
       "      <td>0</td>\n",
       "      <td>0</td>\n",
       "      <td>0</td>\n",
       "    </tr>\n",
       "    <tr>\n",
       "      <th>100</th>\n",
       "      <td>1</td>\n",
       "      <td>0</td>\n",
       "      <td>1</td>\n",
       "      <td>1</td>\n",
       "      <td>0</td>\n",
       "      <td>0</td>\n",
       "      <td>0</td>\n",
       "      <td>0</td>\n",
       "      <td>0</td>\n",
       "      <td>1</td>\n",
       "      <td>...</td>\n",
       "      <td>0</td>\n",
       "      <td>1</td>\n",
       "      <td>0</td>\n",
       "      <td>0</td>\n",
       "      <td>0</td>\n",
       "      <td>1</td>\n",
       "      <td>0</td>\n",
       "      <td>0</td>\n",
       "      <td>0</td>\n",
       "      <td>0</td>\n",
       "    </tr>\n",
       "    <tr>\n",
       "      <th>94</th>\n",
       "      <td>0</td>\n",
       "      <td>0</td>\n",
       "      <td>0</td>\n",
       "      <td>0</td>\n",
       "      <td>0</td>\n",
       "      <td>1</td>\n",
       "      <td>0</td>\n",
       "      <td>0</td>\n",
       "      <td>0</td>\n",
       "      <td>1</td>\n",
       "      <td>...</td>\n",
       "      <td>0</td>\n",
       "      <td>0</td>\n",
       "      <td>0</td>\n",
       "      <td>0</td>\n",
       "      <td>1</td>\n",
       "      <td>1</td>\n",
       "      <td>0</td>\n",
       "      <td>0</td>\n",
       "      <td>0</td>\n",
       "      <td>0</td>\n",
       "    </tr>\n",
       "    <tr>\n",
       "      <th>26</th>\n",
       "      <td>1</td>\n",
       "      <td>0</td>\n",
       "      <td>1</td>\n",
       "      <td>1</td>\n",
       "      <td>0</td>\n",
       "      <td>0</td>\n",
       "      <td>0</td>\n",
       "      <td>0</td>\n",
       "      <td>0</td>\n",
       "      <td>1</td>\n",
       "      <td>...</td>\n",
       "      <td>0</td>\n",
       "      <td>1</td>\n",
       "      <td>0</td>\n",
       "      <td>0</td>\n",
       "      <td>0</td>\n",
       "      <td>0</td>\n",
       "      <td>0</td>\n",
       "      <td>1</td>\n",
       "      <td>0</td>\n",
       "      <td>0</td>\n",
       "    </tr>\n",
       "    <tr>\n",
       "      <th>23</th>\n",
       "      <td>1</td>\n",
       "      <td>0</td>\n",
       "      <td>1</td>\n",
       "      <td>0</td>\n",
       "      <td>1</td>\n",
       "      <td>0</td>\n",
       "      <td>0</td>\n",
       "      <td>0</td>\n",
       "      <td>1</td>\n",
       "      <td>0</td>\n",
       "      <td>...</td>\n",
       "      <td>0</td>\n",
       "      <td>0</td>\n",
       "      <td>0</td>\n",
       "      <td>1</td>\n",
       "      <td>0</td>\n",
       "      <td>0</td>\n",
       "      <td>0</td>\n",
       "      <td>1</td>\n",
       "      <td>0</td>\n",
       "      <td>0</td>\n",
       "    </tr>\n",
       "  </tbody>\n",
       "</table>\n",
       "<p>571 rows × 38 columns</p>\n",
       "</div>"
      ],
      "text/plain": [
       "     Sex  FastingBS  ExerciseAngina  ChestPainType_ASY  ChestPainType_ATA  \\\n",
       "222    0          0               0                  0                  0   \n",
       "680    1          0               1                  1                  0   \n",
       "114    0          0               0                  0                  0   \n",
       "637    1          0               0                  1                  0   \n",
       "792    1          0               0                  0                  0   \n",
       "..   ...        ...             ...                ...                ...   \n",
       "16     1          0               0                  1                  0   \n",
       "100    1          0               1                  1                  0   \n",
       "94     0          0               0                  0                  0   \n",
       "26     1          0               1                  1                  0   \n",
       "23     1          0               1                  0                  1   \n",
       "\n",
       "     ChestPainType_NAP  ChestPainType_TA  RestingECG_LVH  RestingECG_Normal  \\\n",
       "222                  1                 0               0                  1   \n",
       "680                  0                 0               1                  0   \n",
       "114                  1                 0               0                  0   \n",
       "637                  0                 0               0                  1   \n",
       "792                  1                 0               0                  1   \n",
       "..                 ...               ...             ...                ...   \n",
       "16                   0                 0               0                  1   \n",
       "100                  0                 0               0                  0   \n",
       "94                   1                 0               0                  0   \n",
       "26                   0                 0               0                  0   \n",
       "23                   0                 0               0                  1   \n",
       "\n",
       "     RestingECG_ST  ...  MaxHR_0  MaxHR_1  MaxHR_2  MaxHR_3  MaxHR_4  \\\n",
       "222              0  ...        0        0        1        0        0   \n",
       "680              0  ...        0        1        0        0        0   \n",
       "114              1  ...        0        0        1        0        0   \n",
       "637              0  ...        0        0        0        0        1   \n",
       "792              0  ...        0        0        1        0        0   \n",
       "..             ...  ...      ...      ...      ...      ...      ...   \n",
       "16               0  ...        0        0        0        1        0   \n",
       "100              1  ...        0        1        0        0        0   \n",
       "94               1  ...        0        0        0        0        1   \n",
       "26               1  ...        0        1        0        0        0   \n",
       "23               0  ...        0        0        0        1        0   \n",
       "\n",
       "     Oldpeak_0  Oldpeak_1  Oldpeak_2  Oldpeak_3  Oldpeak_4  \n",
       "222          1          0          0          0          0  \n",
       "680          1          0          0          0          0  \n",
       "114          1          0          0          0          0  \n",
       "637          0          1          0          0          0  \n",
       "792          0          0          1          0          0  \n",
       "..         ...        ...        ...        ...        ...  \n",
       "16           1          0          0          0          0  \n",
       "100          1          0          0          0          0  \n",
       "94           1          0          0          0          0  \n",
       "26           0          0          1          0          0  \n",
       "23           0          0          1          0          0  \n",
       "\n",
       "[571 rows x 38 columns]"
      ]
     },
     "execution_count": 22,
     "metadata": {},
     "output_type": "execute_result"
    }
   ],
   "source": [
    "df_clean = df_dumm.copy()\n",
    "\n",
    "X = df_clean.drop([\"HeartDisease\"], axis=1)\n",
    "y = df_clean[\"HeartDisease\"]\n",
    "\n",
    "X_train, X_test, y_train, y_test = train_test_split(X, y, test_size=0.20, random_state=42, stratify=y)\n",
    "X_train"
   ]
  },
  {
   "cell_type": "code",
   "execution_count": 23,
   "id": "e38ab042",
   "metadata": {
    "execution": {
     "iopub.execute_input": "2023-03-19T10:57:35.235498Z",
     "iopub.status.busy": "2023-03-19T10:57:35.235006Z",
     "iopub.status.idle": "2023-03-19T10:57:35.251846Z",
     "shell.execute_reply": "2023-03-19T10:57:35.251039Z"
    },
    "papermill": {
     "duration": 0.052676,
     "end_time": "2023-03-19T10:57:35.253578",
     "exception": false,
     "start_time": "2023-03-19T10:57:35.200902",
     "status": "completed"
    },
    "tags": []
   },
   "outputs": [
    {
     "data": {
      "text/html": [
       "<div>\n",
       "<style scoped>\n",
       "    .dataframe tbody tr th:only-of-type {\n",
       "        vertical-align: middle;\n",
       "    }\n",
       "\n",
       "    .dataframe tbody tr th {\n",
       "        vertical-align: top;\n",
       "    }\n",
       "\n",
       "    .dataframe thead th {\n",
       "        text-align: right;\n",
       "    }\n",
       "</style>\n",
       "<table border=\"1\" class=\"dataframe\">\n",
       "  <thead>\n",
       "    <tr style=\"text-align: right;\">\n",
       "      <th></th>\n",
       "      <th>Sex</th>\n",
       "      <th>FastingBS</th>\n",
       "      <th>ExerciseAngina</th>\n",
       "      <th>ChestPainType_ASY</th>\n",
       "      <th>ChestPainType_ATA</th>\n",
       "      <th>ChestPainType_NAP</th>\n",
       "      <th>ChestPainType_TA</th>\n",
       "      <th>RestingECG_LVH</th>\n",
       "      <th>RestingECG_Normal</th>\n",
       "      <th>RestingECG_ST</th>\n",
       "      <th>...</th>\n",
       "      <th>MaxHR_0</th>\n",
       "      <th>MaxHR_1</th>\n",
       "      <th>MaxHR_2</th>\n",
       "      <th>MaxHR_3</th>\n",
       "      <th>MaxHR_4</th>\n",
       "      <th>Oldpeak_0</th>\n",
       "      <th>Oldpeak_1</th>\n",
       "      <th>Oldpeak_2</th>\n",
       "      <th>Oldpeak_3</th>\n",
       "      <th>Oldpeak_4</th>\n",
       "    </tr>\n",
       "  </thead>\n",
       "  <tbody>\n",
       "    <tr>\n",
       "      <th>13</th>\n",
       "      <td>1</td>\n",
       "      <td>0</td>\n",
       "      <td>1</td>\n",
       "      <td>1</td>\n",
       "      <td>0</td>\n",
       "      <td>0</td>\n",
       "      <td>0</td>\n",
       "      <td>0</td>\n",
       "      <td>1</td>\n",
       "      <td>0</td>\n",
       "      <td>...</td>\n",
       "      <td>0</td>\n",
       "      <td>0</td>\n",
       "      <td>1</td>\n",
       "      <td>0</td>\n",
       "      <td>0</td>\n",
       "      <td>1</td>\n",
       "      <td>0</td>\n",
       "      <td>0</td>\n",
       "      <td>0</td>\n",
       "      <td>0</td>\n",
       "    </tr>\n",
       "    <tr>\n",
       "      <th>771</th>\n",
       "      <td>1</td>\n",
       "      <td>0</td>\n",
       "      <td>1</td>\n",
       "      <td>1</td>\n",
       "      <td>0</td>\n",
       "      <td>0</td>\n",
       "      <td>0</td>\n",
       "      <td>0</td>\n",
       "      <td>1</td>\n",
       "      <td>0</td>\n",
       "      <td>...</td>\n",
       "      <td>0</td>\n",
       "      <td>1</td>\n",
       "      <td>0</td>\n",
       "      <td>0</td>\n",
       "      <td>0</td>\n",
       "      <td>0</td>\n",
       "      <td>0</td>\n",
       "      <td>0</td>\n",
       "      <td>0</td>\n",
       "      <td>1</td>\n",
       "    </tr>\n",
       "    <tr>\n",
       "      <th>220</th>\n",
       "      <td>1</td>\n",
       "      <td>0</td>\n",
       "      <td>0</td>\n",
       "      <td>1</td>\n",
       "      <td>0</td>\n",
       "      <td>0</td>\n",
       "      <td>0</td>\n",
       "      <td>0</td>\n",
       "      <td>1</td>\n",
       "      <td>0</td>\n",
       "      <td>...</td>\n",
       "      <td>0</td>\n",
       "      <td>1</td>\n",
       "      <td>0</td>\n",
       "      <td>0</td>\n",
       "      <td>0</td>\n",
       "      <td>1</td>\n",
       "      <td>0</td>\n",
       "      <td>0</td>\n",
       "      <td>0</td>\n",
       "      <td>0</td>\n",
       "    </tr>\n",
       "    <tr>\n",
       "      <th>795</th>\n",
       "      <td>1</td>\n",
       "      <td>1</td>\n",
       "      <td>0</td>\n",
       "      <td>0</td>\n",
       "      <td>0</td>\n",
       "      <td>1</td>\n",
       "      <td>0</td>\n",
       "      <td>0</td>\n",
       "      <td>1</td>\n",
       "      <td>0</td>\n",
       "      <td>...</td>\n",
       "      <td>0</td>\n",
       "      <td>0</td>\n",
       "      <td>0</td>\n",
       "      <td>0</td>\n",
       "      <td>1</td>\n",
       "      <td>1</td>\n",
       "      <td>0</td>\n",
       "      <td>0</td>\n",
       "      <td>0</td>\n",
       "      <td>0</td>\n",
       "    </tr>\n",
       "    <tr>\n",
       "      <th>537</th>\n",
       "      <td>1</td>\n",
       "      <td>1</td>\n",
       "      <td>1</td>\n",
       "      <td>1</td>\n",
       "      <td>0</td>\n",
       "      <td>0</td>\n",
       "      <td>0</td>\n",
       "      <td>0</td>\n",
       "      <td>0</td>\n",
       "      <td>1</td>\n",
       "      <td>...</td>\n",
       "      <td>0</td>\n",
       "      <td>0</td>\n",
       "      <td>1</td>\n",
       "      <td>0</td>\n",
       "      <td>0</td>\n",
       "      <td>0</td>\n",
       "      <td>0</td>\n",
       "      <td>0</td>\n",
       "      <td>1</td>\n",
       "      <td>0</td>\n",
       "    </tr>\n",
       "    <tr>\n",
       "      <th>...</th>\n",
       "      <td>...</td>\n",
       "      <td>...</td>\n",
       "      <td>...</td>\n",
       "      <td>...</td>\n",
       "      <td>...</td>\n",
       "      <td>...</td>\n",
       "      <td>...</td>\n",
       "      <td>...</td>\n",
       "      <td>...</td>\n",
       "      <td>...</td>\n",
       "      <td>...</td>\n",
       "      <td>...</td>\n",
       "      <td>...</td>\n",
       "      <td>...</td>\n",
       "      <td>...</td>\n",
       "      <td>...</td>\n",
       "      <td>...</td>\n",
       "      <td>...</td>\n",
       "      <td>...</td>\n",
       "      <td>...</td>\n",
       "      <td>...</td>\n",
       "    </tr>\n",
       "    <tr>\n",
       "      <th>692</th>\n",
       "      <td>0</td>\n",
       "      <td>0</td>\n",
       "      <td>0</td>\n",
       "      <td>0</td>\n",
       "      <td>0</td>\n",
       "      <td>1</td>\n",
       "      <td>0</td>\n",
       "      <td>0</td>\n",
       "      <td>1</td>\n",
       "      <td>0</td>\n",
       "      <td>...</td>\n",
       "      <td>0</td>\n",
       "      <td>0</td>\n",
       "      <td>0</td>\n",
       "      <td>0</td>\n",
       "      <td>1</td>\n",
       "      <td>1</td>\n",
       "      <td>0</td>\n",
       "      <td>0</td>\n",
       "      <td>0</td>\n",
       "      <td>0</td>\n",
       "    </tr>\n",
       "    <tr>\n",
       "      <th>473</th>\n",
       "      <td>1</td>\n",
       "      <td>1</td>\n",
       "      <td>1</td>\n",
       "      <td>0</td>\n",
       "      <td>0</td>\n",
       "      <td>1</td>\n",
       "      <td>0</td>\n",
       "      <td>0</td>\n",
       "      <td>0</td>\n",
       "      <td>1</td>\n",
       "      <td>...</td>\n",
       "      <td>0</td>\n",
       "      <td>1</td>\n",
       "      <td>0</td>\n",
       "      <td>0</td>\n",
       "      <td>0</td>\n",
       "      <td>0</td>\n",
       "      <td>1</td>\n",
       "      <td>0</td>\n",
       "      <td>0</td>\n",
       "      <td>0</td>\n",
       "    </tr>\n",
       "    <tr>\n",
       "      <th>693</th>\n",
       "      <td>0</td>\n",
       "      <td>0</td>\n",
       "      <td>0</td>\n",
       "      <td>0</td>\n",
       "      <td>0</td>\n",
       "      <td>1</td>\n",
       "      <td>0</td>\n",
       "      <td>0</td>\n",
       "      <td>1</td>\n",
       "      <td>0</td>\n",
       "      <td>...</td>\n",
       "      <td>0</td>\n",
       "      <td>0</td>\n",
       "      <td>0</td>\n",
       "      <td>1</td>\n",
       "      <td>0</td>\n",
       "      <td>1</td>\n",
       "      <td>0</td>\n",
       "      <td>0</td>\n",
       "      <td>0</td>\n",
       "      <td>0</td>\n",
       "    </tr>\n",
       "    <tr>\n",
       "      <th>77</th>\n",
       "      <td>0</td>\n",
       "      <td>0</td>\n",
       "      <td>0</td>\n",
       "      <td>1</td>\n",
       "      <td>0</td>\n",
       "      <td>0</td>\n",
       "      <td>0</td>\n",
       "      <td>0</td>\n",
       "      <td>1</td>\n",
       "      <td>0</td>\n",
       "      <td>...</td>\n",
       "      <td>0</td>\n",
       "      <td>0</td>\n",
       "      <td>0</td>\n",
       "      <td>1</td>\n",
       "      <td>0</td>\n",
       "      <td>1</td>\n",
       "      <td>0</td>\n",
       "      <td>0</td>\n",
       "      <td>0</td>\n",
       "      <td>0</td>\n",
       "    </tr>\n",
       "    <tr>\n",
       "      <th>265</th>\n",
       "      <td>1</td>\n",
       "      <td>0</td>\n",
       "      <td>0</td>\n",
       "      <td>0</td>\n",
       "      <td>1</td>\n",
       "      <td>0</td>\n",
       "      <td>0</td>\n",
       "      <td>0</td>\n",
       "      <td>1</td>\n",
       "      <td>0</td>\n",
       "      <td>...</td>\n",
       "      <td>0</td>\n",
       "      <td>0</td>\n",
       "      <td>0</td>\n",
       "      <td>1</td>\n",
       "      <td>0</td>\n",
       "      <td>1</td>\n",
       "      <td>0</td>\n",
       "      <td>0</td>\n",
       "      <td>0</td>\n",
       "      <td>0</td>\n",
       "    </tr>\n",
       "  </tbody>\n",
       "</table>\n",
       "<p>143 rows × 38 columns</p>\n",
       "</div>"
      ],
      "text/plain": [
       "     Sex  FastingBS  ExerciseAngina  ChestPainType_ASY  ChestPainType_ATA  \\\n",
       "13     1          0               1                  1                  0   \n",
       "771    1          0               1                  1                  0   \n",
       "220    1          0               0                  1                  0   \n",
       "795    1          1               0                  0                  0   \n",
       "537    1          1               1                  1                  0   \n",
       "..   ...        ...             ...                ...                ...   \n",
       "692    0          0               0                  0                  0   \n",
       "473    1          1               1                  0                  0   \n",
       "693    0          0               0                  0                  0   \n",
       "77     0          0               0                  1                  0   \n",
       "265    1          0               0                  0                  1   \n",
       "\n",
       "     ChestPainType_NAP  ChestPainType_TA  RestingECG_LVH  RestingECG_Normal  \\\n",
       "13                   0                 0               0                  1   \n",
       "771                  0                 0               0                  1   \n",
       "220                  0                 0               0                  1   \n",
       "795                  1                 0               0                  1   \n",
       "537                  0                 0               0                  0   \n",
       "..                 ...               ...             ...                ...   \n",
       "692                  1                 0               0                  1   \n",
       "473                  1                 0               0                  0   \n",
       "693                  1                 0               0                  1   \n",
       "77                   0                 0               0                  1   \n",
       "265                  0                 0               0                  1   \n",
       "\n",
       "     RestingECG_ST  ...  MaxHR_0  MaxHR_1  MaxHR_2  MaxHR_3  MaxHR_4  \\\n",
       "13               0  ...        0        0        1        0        0   \n",
       "771              0  ...        0        1        0        0        0   \n",
       "220              0  ...        0        1        0        0        0   \n",
       "795              0  ...        0        0        0        0        1   \n",
       "537              1  ...        0        0        1        0        0   \n",
       "..             ...  ...      ...      ...      ...      ...      ...   \n",
       "692              0  ...        0        0        0        0        1   \n",
       "473              1  ...        0        1        0        0        0   \n",
       "693              0  ...        0        0        0        1        0   \n",
       "77               0  ...        0        0        0        1        0   \n",
       "265              0  ...        0        0        0        1        0   \n",
       "\n",
       "     Oldpeak_0  Oldpeak_1  Oldpeak_2  Oldpeak_3  Oldpeak_4  \n",
       "13           1          0          0          0          0  \n",
       "771          0          0          0          0          1  \n",
       "220          1          0          0          0          0  \n",
       "795          1          0          0          0          0  \n",
       "537          0          0          0          1          0  \n",
       "..         ...        ...        ...        ...        ...  \n",
       "692          1          0          0          0          0  \n",
       "473          0          1          0          0          0  \n",
       "693          1          0          0          0          0  \n",
       "77           1          0          0          0          0  \n",
       "265          1          0          0          0          0  \n",
       "\n",
       "[143 rows x 38 columns]"
      ]
     },
     "execution_count": 23,
     "metadata": {},
     "output_type": "execute_result"
    }
   ],
   "source": [
    "X_test"
   ]
  },
  {
   "cell_type": "code",
   "execution_count": 24,
   "id": "dacd5f12",
   "metadata": {
    "execution": {
     "iopub.execute_input": "2023-03-19T10:57:35.321821Z",
     "iopub.status.busy": "2023-03-19T10:57:35.321464Z",
     "iopub.status.idle": "2023-03-19T10:57:35.344569Z",
     "shell.execute_reply": "2023-03-19T10:57:35.343698Z"
    },
    "papermill": {
     "duration": 0.059599,
     "end_time": "2023-03-19T10:57:35.346630",
     "exception": false,
     "start_time": "2023-03-19T10:57:35.287031",
     "status": "completed"
    },
    "tags": []
   },
   "outputs": [
    {
     "name": "stdout",
     "output_type": "stream",
     "text": [
      "Accuracy: 0.9230769230769231\n"
     ]
    }
   ],
   "source": [
    "logreg = LogisticRegression(max_iter=900)\n",
    "# fit the model on the training data\n",
    "logreg.fit(X_train, y_train)\n",
    "# make predictions on the testing data\n",
    "y_pred = logreg.predict(X_test)\n",
    "# calculate accuracy\n",
    "accuracy = accuracy_score(y_test, y_pred)\n",
    "print(\"Accuracy:\", accuracy)"
   ]
  },
  {
   "cell_type": "code",
   "execution_count": 25,
   "id": "8caef176",
   "metadata": {
    "execution": {
     "iopub.execute_input": "2023-03-19T10:57:35.445564Z",
     "iopub.status.busy": "2023-03-19T10:57:35.445181Z",
     "iopub.status.idle": "2023-03-19T10:57:35.613461Z",
     "shell.execute_reply": "2023-03-19T10:57:35.612158Z"
    },
    "papermill": {
     "duration": 0.219582,
     "end_time": "2023-03-19T10:57:35.616010",
     "exception": false,
     "start_time": "2023-03-19T10:57:35.396428",
     "status": "completed"
    },
    "tags": []
   },
   "outputs": [
    {
     "name": "stdout",
     "output_type": "stream",
     "text": [
      "Model accuracy: 0.916083916083916\n"
     ]
    }
   ],
   "source": [
    "model = RandomForestClassifier(n_estimators=100)\n",
    "\n",
    "# train the model using the training data\n",
    "model.fit(X_train, y_train)\n",
    "\n",
    "# test the model using the testing data\n",
    "accuracy = model.score(X_test, y_test)\n",
    "print(f\"Model accuracy: {accuracy}\")"
   ]
  },
  {
   "cell_type": "code",
   "execution_count": 26,
   "id": "ce37f896",
   "metadata": {
    "execution": {
     "iopub.execute_input": "2023-03-19T10:57:35.687977Z",
     "iopub.status.busy": "2023-03-19T10:57:35.687608Z",
     "iopub.status.idle": "2023-03-19T10:57:35.698543Z",
     "shell.execute_reply": "2023-03-19T10:57:35.697330Z"
    },
    "papermill": {
     "duration": 0.050741,
     "end_time": "2023-03-19T10:57:35.701379",
     "exception": false,
     "start_time": "2023-03-19T10:57:35.650638",
     "status": "completed"
    },
    "tags": []
   },
   "outputs": [
    {
     "name": "stdout",
     "output_type": "stream",
     "text": [
      "Accuracy: 0.8951048951048951\n"
     ]
    }
   ],
   "source": [
    "dt_classifier = DecisionTreeClassifier(max_depth=3, random_state=42)\n",
    "\n",
    "# Train the Decision Tree Classifier on the training data\n",
    "dt_classifier.fit(X_train, y_train)\n",
    "\n",
    "# Make predictions on the test data\n",
    "y_pred = dt_classifier.predict(X_test)\n",
    "\n",
    "# Calculate the accuracy of the Decision Tree Classifier\n",
    "accuracy = accuracy_score(y_test, y_pred)\n",
    "print(\"Accuracy:\", accuracy)"
   ]
  },
  {
   "cell_type": "code",
   "execution_count": 27,
   "id": "8a2ea4a1",
   "metadata": {
    "execution": {
     "iopub.execute_input": "2023-03-19T10:57:35.771864Z",
     "iopub.status.busy": "2023-03-19T10:57:35.771507Z",
     "iopub.status.idle": "2023-03-19T10:57:35.775458Z",
     "shell.execute_reply": "2023-03-19T10:57:35.774541Z"
    },
    "papermill": {
     "duration": 0.041086,
     "end_time": "2023-03-19T10:57:35.777319",
     "exception": false,
     "start_time": "2023-03-19T10:57:35.736233",
     "status": "completed"
    },
    "tags": []
   },
   "outputs": [],
   "source": [
    "metric = 'recall'"
   ]
  },
  {
   "cell_type": "code",
   "execution_count": 28,
   "id": "fc8d888c",
   "metadata": {
    "execution": {
     "iopub.execute_input": "2023-03-19T10:57:35.852584Z",
     "iopub.status.busy": "2023-03-19T10:57:35.852279Z",
     "iopub.status.idle": "2023-03-19T10:57:35.858974Z",
     "shell.execute_reply": "2023-03-19T10:57:35.858302Z"
    },
    "papermill": {
     "duration": 0.043286,
     "end_time": "2023-03-19T10:57:35.860550",
     "exception": false,
     "start_time": "2023-03-19T10:57:35.817264",
     "status": "completed"
    },
    "tags": []
   },
   "outputs": [],
   "source": [
    "cv = 15\n",
    "nFeatures = len(X_train.columns)\n",
    "\n",
    "def plot_roc_curve(fpr, tpr, label=None):\n",
    "    plt.plot(fpr, tpr, linewidth=2, label=label)\n",
    "    plt.plot([0,1], [0, 1], 'k--')\n",
    "    plt.axis([0, 1, 0, 1]) \n",
    "    plt.xlabel(\"False Positive Rate\")\n",
    "    plt.ylabel(\"True Poisitive Rate\")\n",
    "    \n",
    "def print_scores(y, y_pred):\n",
    "    ac, pr, rc, f1 = accuracy_score(y, y_pred)*100, precision_score(y, y_pred)*100, recall_score(y, y_pred)*100, f1_score(y, y_pred, average='weighted')*100\n",
    "    print(f\"Accuracy:{ac}\")\n",
    "    print(f\"Precision:{pr}\")\n",
    "    print(f\"Recall:{rc}\")\n",
    "    print(f\"F1-score:{f1}\")\n",
    "    return {'ac': ac, 'pr':pr, 'rc':rc, 'f1':f1}"
   ]
  },
  {
   "attachments": {},
   "cell_type": "markdown",
   "id": "6361bd51",
   "metadata": {
    "papermill": {
     "duration": 0.033232,
     "end_time": "2023-03-19T10:57:35.927529",
     "exception": false,
     "start_time": "2023-03-19T10:57:35.894297",
     "status": "completed"
    },
    "tags": []
   },
   "source": [
    "# K-Nearest Neighbors Classifier"
   ]
  },
  {
   "cell_type": "code",
   "execution_count": 29,
   "id": "c3ab28b5",
   "metadata": {
    "execution": {
     "iopub.execute_input": "2023-03-19T10:57:35.996387Z",
     "iopub.status.busy": "2023-03-19T10:57:35.995821Z",
     "iopub.status.idle": "2023-03-19T10:57:42.612913Z",
     "shell.execute_reply": "2023-03-19T10:57:42.612142Z"
    },
    "papermill": {
     "duration": 6.654099,
     "end_time": "2023-03-19T10:57:42.615009",
     "exception": false,
     "start_time": "2023-03-19T10:57:35.960910",
     "status": "completed"
    },
    "tags": []
   },
   "outputs": [
    {
     "data": {
      "text/plain": [
       "GridSearchCV(cv=15, estimator=KNeighborsClassifier(),\n",
       "             param_grid=[{'n_neighbors': array([ 5,  6,  7,  8,  9, 10, 11, 12, 13, 14, 15, 16, 17, 18, 19, 20]),\n",
       "                          'p': [1, 2], 'weights': ['uniform', 'distance']}],\n",
       "             scoring='recall')"
      ]
     },
     "execution_count": 29,
     "metadata": {},
     "output_type": "execute_result"
    }
   ],
   "source": [
    "param_grid = [{\n",
    "    'n_neighbors':np.arange(5, 21),\n",
    "    'weights':['uniform', 'distance'],\n",
    "    'p':[1, 2],\n",
    "}]\n",
    "\n",
    "knn_clf = KNeighborsClassifier()\n",
    "grid_knn = GridSearchCV(knn_clf, param_grid, cv=cv, scoring=metric)\n",
    "grid_knn.fit(X_train, y_train)"
   ]
  },
  {
   "cell_type": "code",
   "execution_count": 30,
   "id": "a353b3b4",
   "metadata": {
    "execution": {
     "iopub.execute_input": "2023-03-19T10:57:42.715893Z",
     "iopub.status.busy": "2023-03-19T10:57:42.715563Z",
     "iopub.status.idle": "2023-03-19T10:57:42.721250Z",
     "shell.execute_reply": "2023-03-19T10:57:42.720647Z"
    },
    "papermill": {
     "duration": 0.058051,
     "end_time": "2023-03-19T10:57:42.722894",
     "exception": false,
     "start_time": "2023-03-19T10:57:42.664843",
     "status": "completed"
    },
    "tags": []
   },
   "outputs": [
    {
     "data": {
      "text/plain": [
       "{'n_neighbors': 9, 'p': 2, 'weights': 'distance'}"
      ]
     },
     "execution_count": 30,
     "metadata": {},
     "output_type": "execute_result"
    }
   ],
   "source": [
    "best_knn_clf = grid_knn.best_estimator_\n",
    "grid_knn.best_params_"
   ]
  },
  {
   "cell_type": "code",
   "execution_count": 31,
   "id": "e9beda88",
   "metadata": {
    "execution": {
     "iopub.execute_input": "2023-03-19T10:57:42.795671Z",
     "iopub.status.busy": "2023-03-19T10:57:42.794283Z",
     "iopub.status.idle": "2023-03-19T10:57:43.061571Z",
     "shell.execute_reply": "2023-03-19T10:57:43.060659Z"
    },
    "papermill": {
     "duration": 0.30615,
     "end_time": "2023-03-19T10:57:43.063520",
     "exception": false,
     "start_time": "2023-03-19T10:57:42.757370",
     "status": "completed"
    },
    "tags": []
   },
   "outputs": [
    {
     "data": {
      "text/plain": [
       "<AxesSubplot:>"
      ]
     },
     "execution_count": 31,
     "metadata": {},
     "output_type": "execute_result"
    },
    {
     "data": {
      "image/png": "[encoded data removed]",
      "text/plain": [
       "<Figure size 576x396 with 2 Axes>"
      ]
     },
     "metadata": {},
     "output_type": "display_data"
    }
   ],
   "source": [
    "y_train_pred = cross_val_predict(best_knn_clf, X_train, y_train, cv=cv)\n",
    "conf_mx = confusion_matrix(y_train, y_train_pred)\n",
    "sns.heatmap(conf_mx, annot=True, fmt='')"
   ]
  },
  {
   "cell_type": "code",
   "execution_count": 32,
   "id": "403e4e83",
   "metadata": {
    "execution": {
     "iopub.execute_input": "2023-03-19T10:57:43.134213Z",
     "iopub.status.busy": "2023-03-19T10:57:43.133632Z",
     "iopub.status.idle": "2023-03-19T10:57:43.252036Z",
     "shell.execute_reply": "2023-03-19T10:57:43.251246Z"
    },
    "papermill": {
     "duration": 0.155592,
     "end_time": "2023-03-19T10:57:43.254003",
     "exception": false,
     "start_time": "2023-03-19T10:57:43.098411",
     "status": "completed"
    },
    "tags": []
   },
   "outputs": [
    {
     "data": {
      "image/png": "[encoded data removed]",
      "text/plain": [
       "<Figure size 576x396 with 1 Axes>"
      ]
     },
     "metadata": {},
     "output_type": "display_data"
    }
   ],
   "source": [
    "fpr_knn, tpr_knn, thresholds_knn = roc_curve(y_train, y_train_pred)\n",
    "plot_roc_curve(fpr_knn, tpr_knn, \"K-Nearest Neighbors\")\n",
    "plt.show()"
   ]
  },
  {
   "cell_type": "code",
   "execution_count": 33,
   "id": "91504446",
   "metadata": {
    "execution": {
     "iopub.execute_input": "2023-03-19T10:57:43.326087Z",
     "iopub.status.busy": "2023-03-19T10:57:43.325470Z",
     "iopub.status.idle": "2023-03-19T10:57:43.332304Z",
     "shell.execute_reply": "2023-03-19T10:57:43.331658Z"
    },
    "papermill": {
     "duration": 0.044483,
     "end_time": "2023-03-19T10:57:43.334102",
     "exception": false,
     "start_time": "2023-03-19T10:57:43.289619",
     "status": "completed"
    },
    "tags": []
   },
   "outputs": [
    {
     "data": {
      "text/plain": [
       "0.8339675385448992"
      ]
     },
     "execution_count": 33,
     "metadata": {},
     "output_type": "execute_result"
    }
   ],
   "source": [
    "roc_auc_score(y_train, y_train_pred)"
   ]
  },
  {
   "attachments": {},
   "cell_type": "markdown",
   "id": "ad87a2a6",
   "metadata": {
    "papermill": {
     "duration": 0.034722,
     "end_time": "2023-03-19T10:57:43.403867",
     "exception": false,
     "start_time": "2023-03-19T10:57:43.369145",
     "status": "completed"
    },
    "tags": []
   },
   "source": [
    "# We evaluate the model with test set:"
   ]
  },
  {
   "cell_type": "code",
   "execution_count": 34,
   "id": "7ca286db",
   "metadata": {
    "execution": {
     "iopub.execute_input": "2023-03-19T10:57:43.477825Z",
     "iopub.status.busy": "2023-03-19T10:57:43.477194Z",
     "iopub.status.idle": "2023-03-19T10:57:43.718660Z",
     "shell.execute_reply": "2023-03-19T10:57:43.716025Z"
    },
    "papermill": {
     "duration": 0.281927,
     "end_time": "2023-03-19T10:57:43.721186",
     "exception": false,
     "start_time": "2023-03-19T10:57:43.439259",
     "status": "completed"
    },
    "tags": []
   },
   "outputs": [
    {
     "data": {
      "text/plain": [
       "<AxesSubplot:>"
      ]
     },
     "execution_count": 34,
     "metadata": {},
     "output_type": "execute_result"
    },
    {
     "data": {
      "image/png": "[encoded data removed]",
      "text/plain": [
       "<Figure size 576x396 with 2 Axes>"
      ]
     },
     "metadata": {},
     "output_type": "display_data"
    }
   ],
   "source": [
    "y_test_pred = cross_val_predict(best_knn_clf, X_test, y_test, cv=cv)\n",
    "conf_mx = confusion_matrix(y_test, y_test_pred)\n",
    "sns.heatmap(conf_mx, annot=True, fmt='')"
   ]
  },
  {
   "cell_type": "code",
   "execution_count": 35,
   "id": "1a8beb40",
   "metadata": {
    "execution": {
     "iopub.execute_input": "2023-03-19T10:57:43.796643Z",
     "iopub.status.busy": "2023-03-19T10:57:43.796274Z",
     "iopub.status.idle": "2023-03-19T10:57:43.919041Z",
     "shell.execute_reply": "2023-03-19T10:57:43.918347Z"
    },
    "papermill": {
     "duration": 0.16389,
     "end_time": "2023-03-19T10:57:43.921012",
     "exception": false,
     "start_time": "2023-03-19T10:57:43.757122",
     "status": "completed"
    },
    "tags": []
   },
   "outputs": [
    {
     "data": {
      "image/png": "[encoded data removed]",
      "text/plain": [
       "<Figure size 576x396 with 1 Axes>"
      ]
     },
     "metadata": {},
     "output_type": "display_data"
    }
   ],
   "source": [
    "fpr_knn, tpr_knn, thresholds_knn = roc_curve(y_test, y_test_pred)\n",
    "plot_roc_curve(fpr_knn, tpr_knn, \"K-Nearest Neighbors\")\n",
    "plt.show()"
   ]
  },
  {
   "cell_type": "code",
   "execution_count": 36,
   "id": "ba1a2d5b",
   "metadata": {
    "execution": {
     "iopub.execute_input": "2023-03-19T10:57:44.001468Z",
     "iopub.status.busy": "2023-03-19T10:57:44.000542Z",
     "iopub.status.idle": "2023-03-19T10:57:44.006956Z",
     "shell.execute_reply": "2023-03-19T10:57:44.006323Z"
    },
    "papermill": {
     "duration": 0.045836,
     "end_time": "2023-03-19T10:57:44.008542",
     "exception": false,
     "start_time": "2023-03-19T10:57:43.962706",
     "status": "completed"
    },
    "tags": []
   },
   "outputs": [
    {
     "data": {
      "text/plain": [
       "0.9232128829536528"
      ]
     },
     "execution_count": 36,
     "metadata": {},
     "output_type": "execute_result"
    }
   ],
   "source": [
    "roc_auc_score(y_test, y_test_pred)"
   ]
  },
  {
   "attachments": {},
   "cell_type": "markdown",
   "id": "86448245",
   "metadata": {
    "papermill": {
     "duration": 0.036507,
     "end_time": "2023-03-19T10:57:44.081684",
     "exception": false,
     "start_time": "2023-03-19T10:57:44.045177",
     "status": "completed"
    },
    "tags": []
   },
   "source": [
    "# We calculate the scores"
   ]
  },
  {
   "cell_type": "code",
   "execution_count": 37,
   "id": "55c483ff",
   "metadata": {
    "execution": {
     "iopub.execute_input": "2023-03-19T10:57:44.156831Z",
     "iopub.status.busy": "2023-03-19T10:57:44.156007Z",
     "iopub.status.idle": "2023-03-19T10:57:44.164212Z",
     "shell.execute_reply": "2023-03-19T10:57:44.163267Z"
    },
    "papermill": {
     "duration": 0.047837,
     "end_time": "2023-03-19T10:57:44.166257",
     "exception": false,
     "start_time": "2023-03-19T10:57:44.118420",
     "status": "completed"
    },
    "tags": []
   },
   "outputs": [
    {
     "name": "stdout",
     "output_type": "stream",
     "text": [
      "Accuracy:92.3076923076923\n",
      "Precision:91.17647058823529\n",
      "Recall:92.53731343283582\n",
      "F1-score:92.31071111865813\n"
     ]
    }
   ],
   "source": [
    "knn_scores = print_scores(y_test, y_test_pred)\n"
   ]
  },
  {
   "attachments": {},
   "cell_type": "markdown",
   "id": "3fd783cd",
   "metadata": {
    "papermill": {
     "duration": 0.03631,
     "end_time": "2023-03-19T10:57:44.238910",
     "exception": false,
     "start_time": "2023-03-19T10:57:44.202600",
     "status": "completed"
    },
    "tags": []
   },
   "source": [
    "# C-Support Vector Classifier."
   ]
  },
  {
   "attachments": {},
   "cell_type": "markdown",
   "id": "a15e44ab",
   "metadata": {
    "papermill": {
     "duration": 0.035639,
     "end_time": "2023-03-19T10:57:44.310597",
     "exception": false,
     "start_time": "2023-03-19T10:57:44.274958",
     "status": "completed"
    },
    "tags": []
   },
   "source": [
    "We train the model"
   ]
  },
  {
   "cell_type": "code",
   "execution_count": 38,
   "id": "35f355e9",
   "metadata": {
    "execution": {
     "iopub.execute_input": "2023-03-19T10:57:44.384035Z",
     "iopub.status.busy": "2023-03-19T10:57:44.383500Z",
     "iopub.status.idle": "2023-03-19T10:57:59.818744Z",
     "shell.execute_reply": "2023-03-19T10:57:59.818023Z"
    },
    "papermill": {
     "duration": 15.474192,
     "end_time": "2023-03-19T10:57:59.820541",
     "exception": false,
     "start_time": "2023-03-19T10:57:44.346349",
     "status": "completed"
    },
    "tags": []
   },
   "outputs": [
    {
     "data": {
      "text/plain": [
       "GridSearchCV(cv=15, estimator=SVC(),\n",
       "             param_grid=[{'C': array([1.        , 1.05555556, 1.11111111, 1.16666667, 1.22222222,\n",
       "       1.27777778, 1.33333333, 1.38888889, 1.44444444, 1.5       ]),\n",
       "                          'gamma': ['scale', 'auto'],\n",
       "                          'kernel': ['linear', 'poly', 'rbf', 'sigmoid']}],\n",
       "             scoring='recall')"
      ]
     },
     "execution_count": 38,
     "metadata": {},
     "output_type": "execute_result"
    }
   ],
   "source": [
    "param_grid = [{\n",
    "    \"C\": np.linspace(1, 1.5, 10),\n",
    "    \"kernel\": ['linear', 'poly', 'rbf', 'sigmoid'],\n",
    "    \"gamma\": ['scale', 'auto']\n",
    "}]\n",
    "\n",
    "svc_clf = SVC()\n",
    "grid_svc = GridSearchCV(svc_clf, param_grid, scoring=metric, cv=cv)\n",
    "grid_svc.fit(X_train, y_train)"
   ]
  },
  {
   "cell_type": "code",
   "execution_count": 39,
   "id": "b6306549",
   "metadata": {
    "execution": {
     "iopub.execute_input": "2023-03-19T10:57:59.898662Z",
     "iopub.status.busy": "2023-03-19T10:57:59.898011Z",
     "iopub.status.idle": "2023-03-19T10:57:59.903792Z",
     "shell.execute_reply": "2023-03-19T10:57:59.902807Z"
    },
    "papermill": {
     "duration": 0.046297,
     "end_time": "2023-03-19T10:57:59.905656",
     "exception": false,
     "start_time": "2023-03-19T10:57:59.859359",
     "status": "completed"
    },
    "tags": []
   },
   "outputs": [
    {
     "data": {
      "text/plain": [
       "{'C': 1.0, 'gamma': 'auto', 'kernel': 'sigmoid'}"
      ]
     },
     "execution_count": 39,
     "metadata": {},
     "output_type": "execute_result"
    }
   ],
   "source": [
    "best_svc_clf = grid_svc.best_estimator_\n",
    "grid_svc.best_params_"
   ]
  },
  {
   "cell_type": "code",
   "execution_count": 40,
   "id": "8917fe1f",
   "metadata": {
    "execution": {
     "iopub.execute_input": "2023-03-19T10:57:59.981221Z",
     "iopub.status.busy": "2023-03-19T10:57:59.980881Z",
     "iopub.status.idle": "2023-03-19T10:58:00.344689Z",
     "shell.execute_reply": "2023-03-19T10:58:00.343992Z"
    },
    "papermill": {
     "duration": 0.403834,
     "end_time": "2023-03-19T10:58:00.346447",
     "exception": false,
     "start_time": "2023-03-19T10:57:59.942613",
     "status": "completed"
    },
    "tags": []
   },
   "outputs": [
    {
     "data": {
      "text/plain": [
       "<AxesSubplot:>"
      ]
     },
     "execution_count": 40,
     "metadata": {},
     "output_type": "execute_result"
    },
    {
     "data": {
      "image/png": "[encoded data removed]",
      "text/plain": [
       "<Figure size 576x396 with 2 Axes>"
      ]
     },
     "metadata": {},
     "output_type": "display_data"
    }
   ],
   "source": [
    "y_train_pred = cross_val_predict(best_svc_clf, X_train, y_train, cv=cv)\n",
    "conf_mx = confusion_matrix(y_train, y_train_pred)\n",
    "sns.heatmap(conf_mx, annot=True, fmt='')"
   ]
  },
  {
   "cell_type": "code",
   "execution_count": 41,
   "id": "64719c9c",
   "metadata": {
    "execution": {
     "iopub.execute_input": "2023-03-19T10:58:00.424292Z",
     "iopub.status.busy": "2023-03-19T10:58:00.423348Z",
     "iopub.status.idle": "2023-03-19T10:58:00.567956Z",
     "shell.execute_reply": "2023-03-19T10:58:00.567270Z"
    },
    "papermill": {
     "duration": 0.185847,
     "end_time": "2023-03-19T10:58:00.569722",
     "exception": false,
     "start_time": "2023-03-19T10:58:00.383875",
     "status": "completed"
    },
    "tags": []
   },
   "outputs": [
    {
     "data": {
      "image/png": "[encoded data removed]",
      "text/plain": [
       "<Figure size 576x396 with 1 Axes>"
      ]
     },
     "metadata": {},
     "output_type": "display_data"
    }
   ],
   "source": [
    "fpr_svc, tpr_svc, thresholds_svc = roc_curve(y_train, y_train_pred)\n",
    "plot_roc_curve(fpr_svc, tpr_svc, \"SVC\")\n",
    "plt.show()"
   ]
  },
  {
   "cell_type": "code",
   "execution_count": 42,
   "id": "854f28d5",
   "metadata": {
    "execution": {
     "iopub.execute_input": "2023-03-19T10:58:00.647502Z",
     "iopub.status.busy": "2023-03-19T10:58:00.646879Z",
     "iopub.status.idle": "2023-03-19T10:58:00.654000Z",
     "shell.execute_reply": "2023-03-19T10:58:00.653100Z"
    },
    "papermill": {
     "duration": 0.048289,
     "end_time": "2023-03-19T10:58:00.655964",
     "exception": false,
     "start_time": "2023-03-19T10:58:00.607675",
     "status": "completed"
    },
    "tags": []
   },
   "outputs": [
    {
     "data": {
      "text/plain": [
       "0.8406420865967195"
      ]
     },
     "execution_count": 42,
     "metadata": {},
     "output_type": "execute_result"
    }
   ],
   "source": [
    "roc_auc_score(y_train, y_train_pred)"
   ]
  },
  {
   "attachments": {},
   "cell_type": "markdown",
   "id": "d340c4be",
   "metadata": {
    "papermill": {
     "duration": 0.039382,
     "end_time": "2023-03-19T10:58:00.734325",
     "exception": false,
     "start_time": "2023-03-19T10:58:00.694943",
     "status": "completed"
    },
    "tags": []
   },
   "source": [
    "# We evaluate the model with test set:"
   ]
  },
  {
   "cell_type": "code",
   "execution_count": 43,
   "id": "2dc7e8d3",
   "metadata": {
    "execution": {
     "iopub.execute_input": "2023-03-19T10:58:00.813545Z",
     "iopub.status.busy": "2023-03-19T10:58:00.812889Z",
     "iopub.status.idle": "2023-03-19T10:58:01.066800Z",
     "shell.execute_reply": "2023-03-19T10:58:01.065819Z"
    },
    "papermill": {
     "duration": 0.295924,
     "end_time": "2023-03-19T10:58:01.068909",
     "exception": false,
     "start_time": "2023-03-19T10:58:00.772985",
     "status": "completed"
    },
    "tags": []
   },
   "outputs": [
    {
     "data": {
      "text/plain": [
       "<AxesSubplot:>"
      ]
     },
     "execution_count": 43,
     "metadata": {},
     "output_type": "execute_result"
    },
    {
     "data": {
      "image/png": "[encoded data removed]",
      "text/plain": [
       "<Figure size 576x396 with 2 Axes>"
      ]
     },
     "metadata": {},
     "output_type": "display_data"
    }
   ],
   "source": [
    "y_test_pred = cross_val_predict(best_svc_clf, X_test, y_test, cv=cv)\n",
    "conf_mx = confusion_matrix(y_test, y_test_pred)\n",
    "sns.heatmap(conf_mx, annot=True, fmt='')"
   ]
  },
  {
   "cell_type": "code",
   "execution_count": 44,
   "id": "28e95aab",
   "metadata": {
    "execution": {
     "iopub.execute_input": "2023-03-19T10:58:01.149016Z",
     "iopub.status.busy": "2023-03-19T10:58:01.148434Z",
     "iopub.status.idle": "2023-03-19T10:58:01.296443Z",
     "shell.execute_reply": "2023-03-19T10:58:01.295698Z"
    },
    "papermill": {
     "duration": 0.190469,
     "end_time": "2023-03-19T10:58:01.298365",
     "exception": false,
     "start_time": "2023-03-19T10:58:01.107896",
     "status": "completed"
    },
    "tags": []
   },
   "outputs": [
    {
     "data": {
      "image/png": "[encoded data removed]",
      "text/plain": [
       "<Figure size 576x396 with 1 Axes>"
      ]
     },
     "metadata": {},
     "output_type": "display_data"
    }
   ],
   "source": [
    "fpr_svc, tpr_svc, thresholds_svc = roc_curve(y_test, y_test_pred)\n",
    "plot_roc_curve(fpr_svc, tpr_svc, \"SVC\")\n",
    "plt.show()"
   ]
  },
  {
   "cell_type": "code",
   "execution_count": 45,
   "id": "47208c2a",
   "metadata": {
    "execution": {
     "iopub.execute_input": "2023-03-19T10:58:01.381534Z",
     "iopub.status.busy": "2023-03-19T10:58:01.380966Z",
     "iopub.status.idle": "2023-03-19T10:58:01.388260Z",
     "shell.execute_reply": "2023-03-19T10:58:01.387272Z"
    },
    "papermill": {
     "duration": 0.051426,
     "end_time": "2023-03-19T10:58:01.390155",
     "exception": false,
     "start_time": "2023-03-19T10:58:01.338729",
     "status": "completed"
    },
    "tags": []
   },
   "outputs": [
    {
     "data": {
      "text/plain": [
       "0.893362136684996"
      ]
     },
     "execution_count": 45,
     "metadata": {},
     "output_type": "execute_result"
    }
   ],
   "source": [
    "roc_auc_score(y_test, y_test_pred)"
   ]
  },
  {
   "attachments": {},
   "cell_type": "markdown",
   "id": "0e8b81eb",
   "metadata": {
    "papermill": {
     "duration": 0.039769,
     "end_time": "2023-03-19T10:58:01.469813",
     "exception": false,
     "start_time": "2023-03-19T10:58:01.430044",
     "status": "completed"
    },
    "tags": []
   },
   "source": [
    "We calculate the scores"
   ]
  },
  {
   "cell_type": "code",
   "execution_count": 46,
   "id": "4efdef77",
   "metadata": {
    "execution": {
     "iopub.execute_input": "2023-03-19T10:58:01.553313Z",
     "iopub.status.busy": "2023-03-19T10:58:01.552370Z",
     "iopub.status.idle": "2023-03-19T10:58:01.560866Z",
     "shell.execute_reply": "2023-03-19T10:58:01.559817Z"
    },
    "papermill": {
     "duration": 0.052183,
     "end_time": "2023-03-19T10:58:01.562833",
     "exception": false,
     "start_time": "2023-03-19T10:58:01.510650",
     "status": "completed"
    },
    "tags": []
   },
   "outputs": [
    {
     "name": "stdout",
     "output_type": "stream",
     "text": [
      "Accuracy:89.5104895104895\n",
      "Precision:90.625\n",
      "Recall:86.56716417910447\n",
      "F1-score:89.49189200358863\n"
     ]
    }
   ],
   "source": [
    "svc_scores = print_scores(y_test, y_test_pred)"
   ]
  },
  {
   "attachments": {},
   "cell_type": "markdown",
   "id": "2742d00c",
   "metadata": {
    "papermill": {
     "duration": 0.039948,
     "end_time": "2023-03-19T10:58:01.643636",
     "exception": false,
     "start_time": "2023-03-19T10:58:01.603688",
     "status": "completed"
    },
    "tags": []
   },
   "source": [
    "# Random Forest Classifier"
   ]
  },
  {
   "attachments": {},
   "cell_type": "markdown",
   "id": "197119a4",
   "metadata": {
    "papermill": {
     "duration": 0.03897,
     "end_time": "2023-03-19T10:58:01.722134",
     "exception": false,
     "start_time": "2023-03-19T10:58:01.683164",
     "status": "completed"
    },
    "tags": []
   },
   "source": [
    "We train the model"
   ]
  },
  {
   "cell_type": "code",
   "execution_count": 47,
   "id": "c1171736",
   "metadata": {
    "execution": {
     "iopub.execute_input": "2023-03-19T10:58:01.802673Z",
     "iopub.status.busy": "2023-03-19T10:58:01.802345Z",
     "iopub.status.idle": "2023-03-19T10:58:01.808130Z",
     "shell.execute_reply": "2023-03-19T10:58:01.807256Z"
    },
    "papermill": {
     "duration": 0.048378,
     "end_time": "2023-03-19T10:58:01.810054",
     "exception": false,
     "start_time": "2023-03-19T10:58:01.761676",
     "status": "completed"
    },
    "tags": []
   },
   "outputs": [
    {
     "data": {
      "text/plain": [
       "38"
      ]
     },
     "execution_count": 47,
     "metadata": {},
     "output_type": "execute_result"
    }
   ],
   "source": [
    "nFeatures"
   ]
  },
  {
   "cell_type": "code",
   "execution_count": 48,
   "id": "d742b9a2",
   "metadata": {
    "execution": {
     "iopub.execute_input": "2023-03-19T10:58:01.891654Z",
     "iopub.status.busy": "2023-03-19T10:58:01.890937Z",
     "iopub.status.idle": "2023-03-19T11:06:09.022792Z",
     "shell.execute_reply": "2023-03-19T11:06:09.021789Z"
    },
    "papermill": {
     "duration": 487.21565,
     "end_time": "2023-03-19T11:06:09.065188",
     "exception": false,
     "start_time": "2023-03-19T10:58:01.849538",
     "status": "completed"
    },
    "tags": []
   },
   "outputs": [
    {
     "data": {
      "text/plain": [
       "GridSearchCV(cv=15, estimator=RandomForestClassifier(random_state=42),\n",
       "             param_grid=[{'criterion': ['gini', 'entropy'],\n",
       "                          'max_features': [29, 30, 33],\n",
       "                          'n_estimators': [650, 700, 750, 800]}],\n",
       "             scoring='recall')"
      ]
     },
     "execution_count": 48,
     "metadata": {},
     "output_type": "execute_result"
    }
   ],
   "source": [
    "param_grid = [{\"n_estimators\":[650, 700, 750, 800],\n",
    "               'criterion':['gini','entropy'],\n",
    "               \"max_features\":[nFeatures-9, nFeatures-8, nFeatures-5]\n",
    "              }]\n",
    "rf_clf = RandomForestClassifier(random_state=42)\n",
    "grid_forest = GridSearchCV(rf_clf, param_grid, cv=cv, scoring=metric)\n",
    "grid_forest.fit(X_train, y_train)"
   ]
  },
  {
   "cell_type": "code",
   "execution_count": 49,
   "id": "c4f89297",
   "metadata": {
    "execution": {
     "iopub.execute_input": "2023-03-19T11:06:09.146615Z",
     "iopub.status.busy": "2023-03-19T11:06:09.146112Z",
     "iopub.status.idle": "2023-03-19T11:06:09.153126Z",
     "shell.execute_reply": "2023-03-19T11:06:09.151818Z"
    },
    "papermill": {
     "duration": 0.049553,
     "end_time": "2023-03-19T11:06:09.154959",
     "exception": false,
     "start_time": "2023-03-19T11:06:09.105406",
     "status": "completed"
    },
    "tags": []
   },
   "outputs": [
    {
     "data": {
      "text/plain": [
       "{'bootstrap': True,\n",
       " 'ccp_alpha': 0.0,\n",
       " 'class_weight': None,\n",
       " 'criterion': 'gini',\n",
       " 'max_depth': None,\n",
       " 'max_features': 30,\n",
       " 'max_leaf_nodes': None,\n",
       " 'max_samples': None,\n",
       " 'min_impurity_decrease': 0.0,\n",
       " 'min_samples_leaf': 1,\n",
       " 'min_samples_split': 2,\n",
       " 'min_weight_fraction_leaf': 0.0,\n",
       " 'n_estimators': 700,\n",
       " 'n_jobs': None,\n",
       " 'oob_score': False,\n",
       " 'random_state': 42,\n",
       " 'verbose': 0,\n",
       " 'warm_start': False}"
      ]
     },
     "execution_count": 49,
     "metadata": {},
     "output_type": "execute_result"
    }
   ],
   "source": [
    "best_rf_clf = grid_forest.best_estimator_\n",
    "best_rf_clf.get_params()"
   ]
  },
  {
   "cell_type": "code",
   "execution_count": 50,
   "id": "61b1c2ca",
   "metadata": {
    "execution": {
     "iopub.execute_input": "2023-03-19T11:06:09.236841Z",
     "iopub.status.busy": "2023-03-19T11:06:09.235623Z",
     "iopub.status.idle": "2023-03-19T11:06:28.806269Z",
     "shell.execute_reply": "2023-03-19T11:06:28.805239Z"
    },
    "papermill": {
     "duration": 19.6141,
     "end_time": "2023-03-19T11:06:28.808967",
     "exception": false,
     "start_time": "2023-03-19T11:06:09.194867",
     "status": "completed"
    },
    "tags": []
   },
   "outputs": [
    {
     "data": {
      "text/plain": [
       "<AxesSubplot:>"
      ]
     },
     "execution_count": 50,
     "metadata": {},
     "output_type": "execute_result"
    },
    {
     "data": {
      "image/png": "[encoded data removed]",
      "text/plain": [
       "<Figure size 576x396 with 2 Axes>"
      ]
     },
     "metadata": {},
     "output_type": "display_data"
    }
   ],
   "source": [
    "y_train_pred = cross_val_predict(best_rf_clf, X_train, y_train, cv=cv)\n",
    "conf_mx = confusion_matrix(y_train, y_train_pred)\n",
    "sns.heatmap(conf_mx, annot=True, fmt='')"
   ]
  },
  {
   "cell_type": "code",
   "execution_count": 51,
   "id": "8d6c7ec9",
   "metadata": {
    "execution": {
     "iopub.execute_input": "2023-03-19T11:06:28.896159Z",
     "iopub.status.busy": "2023-03-19T11:06:28.895830Z",
     "iopub.status.idle": "2023-03-19T11:06:29.044444Z",
     "shell.execute_reply": "2023-03-19T11:06:29.043004Z"
    },
    "papermill": {
     "duration": 0.19463,
     "end_time": "2023-03-19T11:06:29.046630",
     "exception": false,
     "start_time": "2023-03-19T11:06:28.852000",
     "status": "completed"
    },
    "tags": []
   },
   "outputs": [
    {
     "data": {
      "image/png": "[encoded data removed]",
      "text/plain": [
       "<Figure size 576x396 with 1 Axes>"
      ]
     },
     "metadata": {},
     "output_type": "display_data"
    }
   ],
   "source": [
    "fpr_forest, tpr_forest, thresholds_forest = roc_curve(y_train, y_train_pred)\n",
    "plot_roc_curve(fpr_forest, tpr_forest, \"Random Forest\")\n",
    "plt.show()"
   ]
  },
  {
   "cell_type": "code",
   "execution_count": 52,
   "id": "23a911ac",
   "metadata": {
    "execution": {
     "iopub.execute_input": "2023-03-19T11:06:29.131680Z",
     "iopub.status.busy": "2023-03-19T11:06:29.131238Z",
     "iopub.status.idle": "2023-03-19T11:06:29.139069Z",
     "shell.execute_reply": "2023-03-19T11:06:29.137633Z"
    },
    "papermill": {
     "duration": 0.052634,
     "end_time": "2023-03-19T11:06:29.141023",
     "exception": false,
     "start_time": "2023-03-19T11:06:29.088389",
     "status": "completed"
    },
    "tags": []
   },
   "outputs": [
    {
     "data": {
      "text/plain": [
       "0.8166038618787251"
      ]
     },
     "execution_count": 52,
     "metadata": {},
     "output_type": "execute_result"
    }
   ],
   "source": [
    "roc_auc_score(y_train, y_train_pred)"
   ]
  },
  {
   "attachments": {},
   "cell_type": "markdown",
   "id": "8e13786e",
   "metadata": {
    "papermill": {
     "duration": 0.041242,
     "end_time": "2023-03-19T11:06:29.223556",
     "exception": false,
     "start_time": "2023-03-19T11:06:29.182314",
     "status": "completed"
    },
    "tags": []
   },
   "source": [
    "We evaluate the model with test set:"
   ]
  },
  {
   "cell_type": "code",
   "execution_count": 53,
   "id": "92d65705",
   "metadata": {
    "execution": {
     "iopub.execute_input": "2023-03-19T11:06:29.310671Z",
     "iopub.status.busy": "2023-03-19T11:06:29.310328Z",
     "iopub.status.idle": "2023-03-19T11:06:42.311267Z",
     "shell.execute_reply": "2023-03-19T11:06:42.310548Z"
    },
    "papermill": {
     "duration": 13.048778,
     "end_time": "2023-03-19T11:06:42.313479",
     "exception": false,
     "start_time": "2023-03-19T11:06:29.264701",
     "status": "completed"
    },
    "tags": []
   },
   "outputs": [
    {
     "data": {
      "text/plain": [
       "<AxesSubplot:>"
      ]
     },
     "execution_count": 53,
     "metadata": {},
     "output_type": "execute_result"
    },
    {
     "data": {
      "image/png": "[encoded data removed]",
      "text/plain": [
       "<Figure size 576x396 with 2 Axes>"
      ]
     },
     "metadata": {},
     "output_type": "display_data"
    }
   ],
   "source": [
    "y_test_pred = cross_val_predict(best_rf_clf, X_test, y_test, cv=cv)\n",
    "conf_mx = confusion_matrix(y_test, y_test_pred)\n",
    "sns.heatmap(conf_mx, annot=True, fmt='')"
   ]
  },
  {
   "cell_type": "code",
   "execution_count": 54,
   "id": "ebf01001",
   "metadata": {
    "execution": {
     "iopub.execute_input": "2023-03-19T11:06:42.400730Z",
     "iopub.status.busy": "2023-03-19T11:06:42.400159Z",
     "iopub.status.idle": "2023-03-19T11:06:42.544803Z",
     "shell.execute_reply": "2023-03-19T11:06:42.544061Z"
    },
    "papermill": {
     "duration": 0.190656,
     "end_time": "2023-03-19T11:06:42.547093",
     "exception": false,
     "start_time": "2023-03-19T11:06:42.356437",
     "status": "completed"
    },
    "tags": []
   },
   "outputs": [
    {
     "data": {
      "image/png": "[encoded data removed]",
      "text/plain": [
       "<Figure size 576x396 with 1 Axes>"
      ]
     },
     "metadata": {},
     "output_type": "display_data"
    }
   ],
   "source": [
    "fpr_forest, tpr_forest, thresholds_forest = roc_curve(y_test, y_test_pred)\n",
    "plot_roc_curve(fpr_forest, tpr_forest, \"Random Forest\")\n",
    "plt.show()"
   ]
  },
  {
   "cell_type": "code",
   "execution_count": 55,
   "id": "15ffcf99",
   "metadata": {
    "execution": {
     "iopub.execute_input": "2023-03-19T11:06:42.637844Z",
     "iopub.status.busy": "2023-03-19T11:06:42.637281Z",
     "iopub.status.idle": "2023-03-19T11:06:42.648452Z",
     "shell.execute_reply": "2023-03-19T11:06:42.646912Z"
    },
    "papermill": {
     "duration": 0.060863,
     "end_time": "2023-03-19T11:06:42.650724",
     "exception": false,
     "start_time": "2023-03-19T11:06:42.589861",
     "status": "completed"
    },
    "tags": []
   },
   "outputs": [
    {
     "data": {
      "text/plain": [
       "0.9118224666142971"
      ]
     },
     "execution_count": 55,
     "metadata": {},
     "output_type": "execute_result"
    }
   ],
   "source": [
    "roc_auc_score(y_test, y_test_pred)"
   ]
  },
  {
   "attachments": {},
   "cell_type": "markdown",
   "id": "ac901f20",
   "metadata": {
    "papermill": {
     "duration": 0.042373,
     "end_time": "2023-03-19T11:06:42.745880",
     "exception": false,
     "start_time": "2023-03-19T11:06:42.703507",
     "status": "completed"
    },
    "tags": []
   },
   "source": [
    "We calculate the scores"
   ]
  },
  {
   "cell_type": "code",
   "execution_count": 56,
   "id": "91b2506b",
   "metadata": {
    "execution": {
     "iopub.execute_input": "2023-03-19T11:06:42.831677Z",
     "iopub.status.busy": "2023-03-19T11:06:42.831367Z",
     "iopub.status.idle": "2023-03-19T11:06:42.841368Z",
     "shell.execute_reply": "2023-03-19T11:06:42.839951Z"
    },
    "papermill": {
     "duration": 0.055746,
     "end_time": "2023-03-19T11:06:42.843825",
     "exception": false,
     "start_time": "2023-03-19T11:06:42.788079",
     "status": "completed"
    },
    "tags": []
   },
   "outputs": [
    {
     "name": "stdout",
     "output_type": "stream",
     "text": [
      "Accuracy:90.9090909090909\n",
      "Precision:86.48648648648648\n",
      "Recall:95.52238805970148\n",
      "F1-score:90.9153160363725\n"
     ]
    }
   ],
   "source": [
    "rf_scores = print_scores(y_test, y_test_pred)"
   ]
  },
  {
   "attachments": {},
   "cell_type": "markdown",
   "id": "e9604946",
   "metadata": {
    "papermill": {
     "duration": 0.043711,
     "end_time": "2023-03-19T11:06:42.931605",
     "exception": false,
     "start_time": "2023-03-19T11:06:42.887894",
     "status": "completed"
    },
    "tags": []
   },
   "source": [
    "# Model Score Comparisons"
   ]
  },
  {
   "cell_type": "code",
   "execution_count": 57,
   "id": "5b74a78d",
   "metadata": {
    "execution": {
     "iopub.execute_input": "2023-03-19T11:06:43.019869Z",
     "iopub.status.busy": "2023-03-19T11:06:43.019276Z",
     "iopub.status.idle": "2023-03-19T11:06:43.095486Z",
     "shell.execute_reply": "2023-03-19T11:06:43.094370Z"
    },
    "papermill": {
     "duration": 0.123043,
     "end_time": "2023-03-19T11:06:43.097522",
     "exception": false,
     "start_time": "2023-03-19T11:06:42.974479",
     "status": "completed"
    },
    "tags": []
   },
   "outputs": [
    {
     "data": {
      "text/html": [
       "<style type=\"text/css\">\n",
       "#T_89e16_row0_col0, #T_89e16_row1_col0, #T_89e16_row2_col2, #T_89e16_row3_col0 {\n",
       "  background-color: green;\n",
       "}\n",
       "</style>\n",
       "<table id=\"T_89e16\">\n",
       "  <thead>\n",
       "    <tr>\n",
       "      <th class=\"blank level0\" >&nbsp;</th>\n",
       "      <th id=\"T_89e16_level0_col0\" class=\"col_heading level0 col0\" >K-Nearest Neighbors</th>\n",
       "      <th id=\"T_89e16_level0_col1\" class=\"col_heading level0 col1\" >C-Support Vector</th>\n",
       "      <th id=\"T_89e16_level0_col2\" class=\"col_heading level0 col2\" >Random Forest</th>\n",
       "    </tr>\n",
       "  </thead>\n",
       "  <tbody>\n",
       "    <tr>\n",
       "      <th id=\"T_89e16_level0_row0\" class=\"row_heading level0 row0\" >ac</th>\n",
       "      <td id=\"T_89e16_row0_col0\" class=\"data row0 col0\" >92.307692</td>\n",
       "      <td id=\"T_89e16_row0_col1\" class=\"data row0 col1\" >89.510490</td>\n",
       "      <td id=\"T_89e16_row0_col2\" class=\"data row0 col2\" >90.909091</td>\n",
       "    </tr>\n",
       "    <tr>\n",
       "      <th id=\"T_89e16_level0_row1\" class=\"row_heading level0 row1\" >pr</th>\n",
       "      <td id=\"T_89e16_row1_col0\" class=\"data row1 col0\" >91.176471</td>\n",
       "      <td id=\"T_89e16_row1_col1\" class=\"data row1 col1\" >90.625000</td>\n",
       "      <td id=\"T_89e16_row1_col2\" class=\"data row1 col2\" >86.486486</td>\n",
       "    </tr>\n",
       "    <tr>\n",
       "      <th id=\"T_89e16_level0_row2\" class=\"row_heading level0 row2\" >rc</th>\n",
       "      <td id=\"T_89e16_row2_col0\" class=\"data row2 col0\" >92.537313</td>\n",
       "      <td id=\"T_89e16_row2_col1\" class=\"data row2 col1\" >86.567164</td>\n",
       "      <td id=\"T_89e16_row2_col2\" class=\"data row2 col2\" >95.522388</td>\n",
       "    </tr>\n",
       "    <tr>\n",
       "      <th id=\"T_89e16_level0_row3\" class=\"row_heading level0 row3\" >f1</th>\n",
       "      <td id=\"T_89e16_row3_col0\" class=\"data row3 col0\" >92.310711</td>\n",
       "      <td id=\"T_89e16_row3_col1\" class=\"data row3 col1\" >89.491892</td>\n",
       "      <td id=\"T_89e16_row3_col2\" class=\"data row3 col2\" >90.915316</td>\n",
       "    </tr>\n",
       "  </tbody>\n",
       "</table>\n"
      ],
      "text/plain": [
       "<pandas.io.formats.style.Styler at 0x21d51492da0>"
      ]
     },
     "execution_count": 57,
     "metadata": {},
     "output_type": "execute_result"
    }
   ],
   "source": [
    "scores = pd.DataFrame(data=[list(knn_scores.values()), list(svc_scores.values()), list(rf_scores.values())], columns=list(knn_scores.keys()))\n",
    "scores = scores.transpose()\n",
    "scores = scores.rename(columns={0:\"K-Nearest Neighbors\", 1:\"C-Support Vector\", 2:\"Random Forest\"})\n",
    "scores.style.highlight_max(color = 'green', axis = 1)"
   ]
  },
  {
   "attachments": {},
   "cell_type": "markdown",
   "id": "4d033b78",
   "metadata": {
    "papermill": {
     "duration": 0.041995,
     "end_time": "2023-03-19T11:06:43.183091",
     "exception": false,
     "start_time": "2023-03-19T11:06:43.141096",
     "status": "completed"
    },
    "tags": []
   },
   "source": [
    "According to our focus the best recall score was present for the Random Forest classifier, but also this classifier present the worst precision score, we must find a balance between recall score and precision score, for me the best model is the KNN classifier"
   ]
  }
 ],
 "metadata": {
  "kernelspec": {
   "display_name": "Python 3.10.1 64-bit",
   "language": "python",
   "name": "python3"
  },
  "language_info": {
   "codemirror_mode": {
    "name": "ipython",
    "version": 3
   },
   "file_extension": ".py",
   "mimetype": "text/x-python",
   "name": "python",
   "nbconvert_exporter": "python",
   "pygments_lexer": "ipython3",
   "version": "3.10.1"
  },
  "papermill": {
   "default_parameters": {},
   "duration": 573.134418,
   "end_time": "2023-03-19T11:06:44.249205",
   "environment_variables": {},
   "exception": null,
   "input_path": "__notebook__.ipynb",
   "output_path": "__notebook__.ipynb",
   "parameters": {},
   "start_time": "2023-03-19T10:57:11.114787",
   "version": "2.4.0"
  },
  "vscode": {
   "interpreter": {
    "hash": "876db7d3f8682b7e4c5477e5f1e2dc2bd1b19fe05d9aabd59218369070754b39"
   }
  }
 },
 "nbformat": 4,
 "nbformat_minor": 5
}
